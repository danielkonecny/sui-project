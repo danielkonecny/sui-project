{
 "cells": [
  {
   "cell_type": "markdown",
   "metadata": {
    "colab_type": "text",
    "id": "klGNgWREsvQv"
   },
   "source": [
    "##### Copyright 2018 The TF-Agents Authors."
   ]
  },
  {
   "cell_type": "code",
   "execution_count": 1,
   "metadata": {
    "cellView": "form",
    "colab": {},
    "colab_type": "code",
    "execution": {
     "iopub.execute_input": "2020-12-08T12:10:49.762517Z",
     "iopub.status.busy": "2020-12-08T12:10:49.761824Z",
     "iopub.status.idle": "2020-12-08T12:10:49.764416Z",
     "shell.execute_reply": "2020-12-08T12:10:49.763811Z"
    },
    "id": "nQnmcm0oI1Q-"
   },
   "outputs": [],
   "source": [
    "#@title Licensed under the Apache License, Version 2.0 (the \"License\");\n",
    "# you may not use this file except in compliance with the License.\n",
    "# You may obtain a copy of the License at\n",
    "#\n",
    "# https://www.apache.org/licenses/LICENSE-2.0\n",
    "#\n",
    "# Unless required by applicable law or agreed to in writing, software\n",
    "# distributed under the License is distributed on an \"AS IS\" BASIS,\n",
    "# WITHOUT WARRANTIES OR CONDITIONS OF ANY KIND, either express or implied.\n",
    "# See the License for the specific language governing permissions and\n",
    "# limitations under the License."
   ]
  },
  {
   "cell_type": "markdown",
   "metadata": {
    "colab_type": "text",
    "id": "pmDI-h7cI0tI"
   },
   "source": [
    "# Train a Deep Q Network with TF-Agents\n",
    "\n",
    "<table class=\"tfo-notebook-buttons\" align=\"left\">\n",
    "  <td>\n",
    "    <a target=\"_blank\" href=\"https://www.tensorflow.org/agents/tutorials/1_dqn_tutorial\">\n",
    "    <img src=\"https://www.tensorflow.org/images/tf_logo_32px.png\" />\n",
    "    View on TensorFlow.org</a>\n",
    "  </td>\n",
    "  <td>\n",
    "    <a target=\"_blank\" href=\"https://colab.research.google.com/github/tensorflow/agents/blob/master/docs/tutorials/1_dqn_tutorial.ipynb\">\n",
    "    <img src=\"https://www.tensorflow.org/images/colab_logo_32px.png\" />\n",
    "    Run in Google Colab</a>\n",
    "  </td>\n",
    "  <td>\n",
    "    <a target=\"_blank\" href=\"https://github.com/tensorflow/agents/blob/master/docs/tutorials/1_dqn_tutorial.ipynb\">\n",
    "    <img src=\"https://www.tensorflow.org/images/GitHub-Mark-32px.png\" />\n",
    "    View source on GitHub</a>\n",
    "  </td>\n",
    "  <td>\n",
    "    <a href=\"https://storage.googleapis.com/tensorflow_docs/agents/docs/tutorials/1_dqn_tutorial.ipynb\"><img src=\"https://www.tensorflow.org/images/download_logo_32px.png\" />Download notebook</a>\n",
    "  </td>\n",
    "</table>"
   ]
  },
  {
   "cell_type": "markdown",
   "metadata": {
    "colab_type": "text",
    "id": "lsaQlK8fFQqH"
   },
   "source": [
    "## Introduction\n"
   ]
  },
  {
   "cell_type": "markdown",
   "metadata": {
    "colab_type": "text",
    "id": "cKOCZlhUgXVK"
   },
   "source": [
    "This example shows how to train a [DQN (Deep Q Networks)](https://storage.googleapis.com/deepmind-media/dqn/DQNNaturePaper.pdf)  agent on the Cartpole environment using the TF-Agents library.\n",
    "\n",
    "![Cartpole environment](https://raw.githubusercontent.com/tensorflow/agents/master/docs/tutorials/images/cartpole.png)\n",
    "\n",
    "It will walk you through all the components in a Reinforcement Learning (RL) pipeline for training, evaluation and data collection.\n",
    "\n",
    "\n",
    "To run this code live, click the 'Run in Google Colab' link above.\n"
   ]
  },
  {
   "cell_type": "markdown",
   "metadata": {
    "colab_type": "text",
    "id": "1u9QVVsShC9X"
   },
   "source": [
    "## Setup"
   ]
  },
  {
   "cell_type": "markdown",
   "metadata": {
    "colab_type": "text",
    "id": "kNrNXKI7bINP"
   },
   "source": [
    "If you haven't installed the following dependencies, run:"
   ]
  },
  {
   "cell_type": "code",
   "execution_count": 2,
   "metadata": {
    "colab": {},
    "colab_type": "code",
    "execution": {
     "iopub.execute_input": "2020-12-08T12:10:49.775232Z",
     "iopub.status.busy": "2020-12-08T12:10:49.774548Z",
     "iopub.status.idle": "2020-12-08T12:11:42.055454Z",
     "shell.execute_reply": "2020-12-08T12:11:42.055939Z"
    },
    "id": "KEHR2Ui-lo8O"
   },
   "outputs": [
    {
     "name": "stdout",
     "output_type": "stream",
     "text": [
      "\r",
      "Reading package lists... 0%\r",
      "\r",
      "Reading package lists... 100%\r",
      "\r",
      "Reading package lists... Done\r",
      "\r\n",
      "\r",
      "Building dependency tree... 0%\r",
      "\r",
      "Building dependency tree... 0%\r"
     ]
    },
    {
     "name": "stdout",
     "output_type": "stream",
     "text": [
      "\r",
      "Building dependency tree... 50%\r",
      "\r",
      "Building dependency tree... 50%\r"
     ]
    },
    {
     "name": "stdout",
     "output_type": "stream",
     "text": [
      "\r",
      "Building dependency tree       \r",
      "\r\n",
      "\r",
      "Reading state information... 0%\r",
      "\r",
      "Reading state information... 0%\r",
      "\r",
      "Reading state information... Done\r",
      "\r\n"
     ]
    },
    {
     "name": "stdout",
     "output_type": "stream",
     "text": [
      "The following packages were automatically installed and are no longer required:\r\n",
      "  dconf-gsettings-backend dconf-service dkms freeglut3 freeglut3-dev\r\n",
      "  glib-networking glib-networking-common glib-networking-services\r\n",
      "  gsettings-desktop-schemas libcairo-gobject2 libcolord2 libdconf1\r\n",
      "  libegl1-mesa libepoxy0 libglu1-mesa libglu1-mesa-dev libgtk-3-0\r\n",
      "  libgtk-3-common libice-dev libjansson4 libjson-glib-1.0-0\r\n",
      "  libjson-glib-1.0-common libproxy1v5 librest-0.7-0 libsm-dev\r\n",
      "  libsoup-gnome2.4-1 libsoup2.4-1 libxi-dev libxmu-dev libxmu-headers\r\n",
      "  libxnvctrl0 libxt-dev linux-gcp-headers-5.0.0-1026\r\n",
      "  linux-headers-5.0.0-1026-gcp linux-image-5.0.0-1026-gcp\r\n",
      "  linux-modules-5.0.0-1026-gcp pkg-config policykit-1-gnome python3-xkit\r\n",
      "  screen-resolution-extra xserver-xorg-core-hwe-18.04\r\n",
      "Use 'sudo apt autoremove' to remove them.\r\n",
      "The following additional packages will be installed:\r\n",
      "  i965-va-driver libaacs0 libass9 libavc1394-0 libavcodec57 libavdevice57\r\n",
      "  libavfilter6 libavformat57 libavresample3 libavutil55 libbdplus0 libbluray2\r\n",
      "  libbs2b0 libcaca0 libcdio-cdda2 libcdio-paranoia2 libcdio17 libchromaprint1\r\n",
      "  libcrystalhd3 libdc1394-22 libdrm-amdgpu1 libdrm-common libdrm-dev\r\n",
      "  libdrm-intel1 libdrm-nouveau2 libdrm-radeon1 libdrm2 libfftw3-double3\r\n",
      "  libflite1 libgme0 libgsm1 libiec61883-0 libjack-jackd2-0 libllvm10\r\n",
      "  libmp3lame0 libmpg123-0 libmysofa0 libnorm1 libnuma1 libopenal-data\r\n",
      "  libopenal1 libopenjp2-7 libopenmpt0 libopus0 libpgm-5.2-0 libpostproc54\r\n",
      "  libraw1394-11 librubberband2 libsamplerate0 libsdl2-2.0-0 libshine3\r\n",
      "  libsnappy1v5 libsndio6.1 libsodium23 libsoxr0 libspeex1 libssh-gcrypt-4\r\n",
      "  libswresample2 libswscale4 libtheora0 libtwolame0 libva-drm2 libva-x11-2\r\n",
      "  libva2 libvorbisfile3 libvpx5 libwavpack1 libwebpmux3 libx264-152\r\n",
      "  libx265-146 libxss1 libxvidcore4 libzmq5 libzvbi-common libzvbi0\r\n",
      "  mesa-va-drivers va-driver-all\r\n",
      "Suggested packages:\r\n",
      "  ffmpeg-doc i965-va-driver-shaders libbluray-bdj firmware-crystalhd\r\n",
      "  libfftw3-bin libfftw3-dev jackd2 libportaudio2 opus-tools libraw1394-doc\r\n",
      "  sndiod speex\r\n"
     ]
    },
    {
     "name": "stdout",
     "output_type": "stream",
     "text": [
      "The following NEW packages will be installed:\r\n",
      "  ffmpeg i965-va-driver libaacs0 libass9 libavc1394-0 libavcodec57\r\n",
      "  libavdevice57 libavfilter6 libavformat57 libavresample3 libavutil55\r\n",
      "  libbdplus0 libbluray2 libbs2b0 libcaca0 libcdio-cdda2 libcdio-paranoia2\r\n",
      "  libcdio17 libchromaprint1 libcrystalhd3 libdc1394-22 libfftw3-double3\r\n",
      "  libflite1 libgme0 libgsm1 libiec61883-0 libjack-jackd2-0 libllvm10\r\n",
      "  libmp3lame0 libmpg123-0 libmysofa0 libnorm1 libnuma1 libopenal-data\r\n",
      "  libopenal1 libopenjp2-7 libopenmpt0 libopus0 libpgm-5.2-0 libpostproc54\r\n",
      "  libraw1394-11 librubberband2 libsamplerate0 libsdl2-2.0-0 libshine3\r\n",
      "  libsnappy1v5 libsndio6.1 libsodium23 libsoxr0 libspeex1 libssh-gcrypt-4\r\n",
      "  libswresample2 libswscale4 libtheora0 libtwolame0 libva-drm2 libva-x11-2\r\n",
      "  libva2 libvorbisfile3 libvpx5 libwavpack1 libwebpmux3 libx264-152\r\n",
      "  libx265-146 libxss1 libxvidcore4 libzmq5 libzvbi-common libzvbi0\r\n",
      "  mesa-va-drivers va-driver-all xvfb\r\n",
      "The following packages will be upgraded:\r\n",
      "  libdrm-amdgpu1 libdrm-common libdrm-dev libdrm-intel1 libdrm-nouveau2\r\n",
      "  libdrm-radeon1 libdrm2\r\n",
      "7 upgraded, 72 newly installed, 0 to remove and 93 not upgraded.\r\n",
      "Need to get 50.5 MB of archives.\r\n",
      "After this operation, 199 MB of additional disk space will be used.\r\n",
      "\r",
      "0% [Working]"
     ]
    },
    {
     "name": "stdout",
     "output_type": "stream",
     "text": [
      "\r",
      "            \r",
      "Get:1 http://asia-east1.gce.archive.ubuntu.com/ubuntu bionic/main amd64 libxss1 amd64 1:1.2.2-1 [8582 B]\r\n",
      "\r",
      "0% [1 libxss1 8582 B/8582 B 100%]\r",
      "                                 \r",
      "0% [Working]\r",
      "            \r",
      "Get:2 http://asia-east1.gce.archive.ubuntu.com/ubuntu bionic-updates/main amd64 libdrm-common all 2.4.101-2~18.04.1 [5560 B]\r\n",
      "\r",
      "0% [2 libdrm-common 5560 B/5560 B 100%]\r",
      "                                       \r",
      "1% [Waiting for headers]"
     ]
    },
    {
     "name": "stdout",
     "output_type": "stream",
     "text": [
      "\r",
      "                        \r",
      "Get:3 http://asia-east1.gce.archive.ubuntu.com/ubuntu bionic-updates/main amd64 libdrm-dev amd64 2.4.101-2~18.04.1 [126 kB]\r\n",
      "\r",
      "1% [3 libdrm-dev 12.3 kB/126 kB 10%]\r",
      "                                    \r",
      "1% [Waiting for headers]\r",
      "                        \r",
      "Get:4 http://asia-east1.gce.archive.ubuntu.com/ubuntu bionic-updates/main amd64 libdrm-intel1 amd64 2.4.101-2~18.04.1 [60.0 kB]\r\n",
      "\r",
      "1% [4 libdrm-intel1 26.3 kB/60.0 kB 44%]\r",
      "                                        \r",
      "1% [Waiting for headers]\r",
      "                        \r",
      "Get:5 http://asia-east1.gce.archive.ubuntu.com/ubuntu bionic-updates/main amd64 libdrm-radeon1 amd64 2.4.101-2~18.04.1 [21.7 kB]\r\n",
      "\r",
      "1% [5 libdrm-radeon1 21.7 kB/21.7 kB 100%]\r",
      "                                          \r",
      "2% [Working]\r",
      "            \r",
      "Get:6 http://asia-east1.gce.archive.ubuntu.com/ubuntu bionic-updates/main amd64 libdrm-nouveau2 amd64 2.4.101-2~18.04.1 [16.5 kB]\r\n",
      "\r",
      "2% [6 libdrm-nouveau2 15.1 kB/16.5 kB 92%]\r",
      "                                          \r",
      "2% [Waiting for headers]\r",
      "                        \r",
      "Get:7 http://asia-east1.gce.archive.ubuntu.com/ubuntu bionic-updates/main amd64 libdrm-amdgpu1 amd64 2.4.101-2~18.04.1 [18.2 kB]\r\n",
      "\r",
      "2% [7 libdrm-amdgpu1 18.2 kB/18.2 kB 100%]\r",
      "                                          \r",
      "2% [Waiting for headers]\r",
      "                        \r",
      "Get:8 http://asia-east1.gce.archive.ubuntu.com/ubuntu bionic-updates/main amd64 libdrm2 amd64 2.4.101-2~18.04.1 [32.3 kB]\r\n",
      "\r",
      "2% [8 libdrm2 24.6 kB/32.3 kB 76%]\r",
      "                                  \r",
      "2% [Waiting for headers]\r",
      "                        \r",
      "Get:9 http://asia-east1.gce.archive.ubuntu.com/ubuntu bionic-updates/main amd64 libnuma1 amd64 2.0.11-2.1ubuntu0.1 [22.0 kB]\r\n",
      "\r",
      "3% [9 libnuma1 22.0 kB/22.0 kB 100%]\r",
      "                                    \r",
      "3% [Waiting for headers]"
     ]
    },
    {
     "name": "stdout",
     "output_type": "stream",
     "text": [
      "\r",
      "                        \r",
      "Get:10 http://asia-east1.gce.archive.ubuntu.com/ubuntu bionic/universe amd64 libva2 amd64 2.1.0-3 [47.6 kB]\r\n",
      "\r",
      "3% [10 libva2 12.3 kB/47.6 kB 26%]\r",
      "                                  \r",
      "3% [Waiting for headers]"
     ]
    },
    {
     "name": "stdout",
     "output_type": "stream",
     "text": [
      "\r",
      "                        \r",
      "Get:11 http://asia-east1.gce.archive.ubuntu.com/ubuntu bionic/universe amd64 libva-drm2 amd64 2.1.0-3 [6880 B]\r\n",
      "\r",
      "3% [11 libva-drm2 6880 B/6880 B 100%]\r",
      "                                     \r",
      "3% [Waiting for headers]"
     ]
    },
    {
     "name": "stdout",
     "output_type": "stream",
     "text": [
      "\r",
      "                        \r",
      "Get:12 http://asia-east1.gce.archive.ubuntu.com/ubuntu bionic/universe amd64 libva-x11-2 amd64 2.1.0-3 [11.5 kB]\r\n",
      "\r",
      "3% [12 libva-x11-2 11.5 kB/11.5 kB 100%]\r",
      "                                        \r",
      "4% [Working]"
     ]
    },
    {
     "name": "stdout",
     "output_type": "stream",
     "text": [
      "\r",
      "            \r",
      "Get:13 http://asia-east1.gce.archive.ubuntu.com/ubuntu bionic-updates/universe amd64 libavutil55 amd64 7:3.4.8-0ubuntu0.2 [190 kB]\r\n",
      "\r",
      "4% [13 libavutil55 11.6 kB/190 kB 6%]\r",
      "                                     \r",
      "4% [Waiting for headers]"
     ]
    },
    {
     "name": "stdout",
     "output_type": "stream",
     "text": [
      "\r",
      "                        \r",
      "Get:14 http://asia-east1.gce.archive.ubuntu.com/ubuntu bionic/universe amd64 libcrystalhd3 amd64 1:0.0~git20110715.fdd2f19-12 [45.8 kB]\r\n",
      "\r",
      "4% [14 libcrystalhd3 17.7 kB/45.8 kB 39%]\r",
      "                                         \r",
      "5% [Waiting for headers]"
     ]
    },
    {
     "name": "stdout",
     "output_type": "stream",
     "text": [
      "\r",
      "                        \r",
      "Get:15 http://asia-east1.gce.archive.ubuntu.com/ubuntu bionic/universe amd64 libgsm1 amd64 1.0.13-4build1 [22.4 kB]\r\n",
      "\r",
      "5% [15 libgsm1 16.5 kB/22.4 kB 74%]\r",
      "                                   \r",
      "5% [Waiting for headers]"
     ]
    },
    {
     "name": "stdout",
     "output_type": "stream",
     "text": [
      "\r",
      "                        \r",
      "Get:16 http://asia-east1.gce.archive.ubuntu.com/ubuntu bionic/main amd64 libmp3lame0 amd64 3.100-2 [136 kB]\r\n",
      "\r",
      "5% [16 libmp3lame0 13.7 kB/136 kB 10%]\r",
      "                                      \r",
      "5% [Waiting for headers]"
     ]
    },
    {
     "name": "stdout",
     "output_type": "stream",
     "text": [
      "\r",
      "                        \r",
      "Get:17 http://asia-east1.gce.archive.ubuntu.com/ubuntu bionic-updates/universe amd64 libopenjp2-7 amd64 2.3.0-2build0.18.04.1 [145 kB]\r\n",
      "\r",
      "5% [17 libopenjp2-7 9338 B/145 kB 6%]\r",
      "                                     \r",
      "6% [Waiting for headers]\r",
      "                        \r",
      "Get:18 http://asia-east1.gce.archive.ubuntu.com/ubuntu bionic/main amd64 libopus0 amd64 1.1.2-1ubuntu1 [159 kB]\r\n",
      "\r",
      "6% [18 libopus0 12.3 kB/159 kB 8%]\r",
      "                                  \r",
      "6% [Waiting for headers]"
     ]
    },
    {
     "name": "stdout",
     "output_type": "stream",
     "text": [
      "\r",
      "                        \r",
      "Get:19 http://asia-east1.gce.archive.ubuntu.com/ubuntu bionic/universe amd64 libshine3 amd64 3.1.1-1 [22.9 kB]\r\n",
      "\r",
      "6% [19 libshine3 20.7 kB/22.9 kB 91%]\r",
      "                                     \r",
      "7% [Waiting for headers]"
     ]
    },
    {
     "name": "stdout",
     "output_type": "stream",
     "text": [
      "\r",
      "                        \r",
      "Get:20 http://asia-east1.gce.archive.ubuntu.com/ubuntu bionic/main amd64 libsnappy1v5 amd64 1.1.7-1 [16.0 kB]\r\n",
      "\r",
      "7% [20 libsnappy1v5 8771 B/16.0 kB 55%]\r",
      "                                       \r",
      "7% [Waiting for headers]"
     ]
    },
    {
     "name": "stdout",
     "output_type": "stream",
     "text": [
      "\r",
      "                        \r",
      "Get:21 http://asia-east1.gce.archive.ubuntu.com/ubuntu bionic/main amd64 libspeex1 amd64 1.2~rc1.2-1ubuntu2 [52.1 kB]\r\n",
      "\r",
      "7% [21 libspeex1 12.3 kB/52.1 kB 24%]\r",
      "                                     \r",
      "7% [Waiting for headers]"
     ]
    },
    {
     "name": "stdout",
     "output_type": "stream",
     "text": [
      "\r",
      "                        \r",
      "Get:22 http://asia-east1.gce.archive.ubuntu.com/ubuntu bionic/universe amd64 libsoxr0 amd64 0.1.2-3 [65.9 kB]\r\n",
      "\r",
      "7% [22 libsoxr0 17.9 kB/65.9 kB 27%]\r",
      "                                    \r",
      "8% [Waiting for headers]\r",
      "                        \r",
      "Get:23 http://asia-east1.gce.archive.ubuntu.com/ubuntu bionic-updates/universe amd64 libswresample2 amd64 7:3.4.8-0ubuntu0.2 [55.2 kB]\r\n",
      "\r",
      "8% [23 libswresample2 22.1 kB/55.2 kB 40%]\r",
      "                                          \r",
      "8% [Waiting for headers]"
     ]
    },
    {
     "name": "stdout",
     "output_type": "stream",
     "text": [
      "\r",
      "                        \r",
      "Get:24 http://asia-east1.gce.archive.ubuntu.com/ubuntu bionic/main amd64 libtheora0 amd64 1.1.1+dfsg.1-14 [170 kB]\r\n",
      "\r",
      "8% [24 libtheora0 14.6 kB/170 kB 9%]\r",
      "                                    \r",
      "8% [Waiting for headers]"
     ]
    },
    {
     "name": "stdout",
     "output_type": "stream",
     "text": [
      "\r",
      "                        \r",
      "Get:25 http://asia-east1.gce.archive.ubuntu.com/ubuntu bionic/main amd64 libtwolame0 amd64 0.3.13-3 [46.7 kB]\r\n",
      "\r",
      "8% [25 libtwolame0 27.8 kB/46.7 kB 59%]\r",
      "                                       \r",
      "9% [Waiting for headers]\r",
      "                        \r",
      "Get:26 http://asia-east1.gce.archive.ubuntu.com/ubuntu bionic-updates/main amd64 libvpx5 amd64 1.7.0-3ubuntu0.18.04.1 [796 kB]\r\n",
      "\r",
      "9% [26 libvpx5 28.7 kB/796 kB 4%]\r",
      "                                 \r",
      "10% [Waiting for headers]"
     ]
    },
    {
     "name": "stdout",
     "output_type": "stream",
     "text": [
      "\r",
      "                         \r",
      "Get:27 http://asia-east1.gce.archive.ubuntu.com/ubuntu bionic-updates/main amd64 libwavpack1 amd64 5.1.0-2ubuntu1.4 [76.6 kB]\r\n",
      "\r",
      "10% [27 libwavpack1 24.9 kB/76.6 kB 33%]                       377 kB/s 2min 7s\r",
      "11% [Working]                                                  377 kB/s 2min 7s\r",
      "                                                                               \r",
      "Get:28 http://asia-east1.gce.archive.ubuntu.com/ubuntu bionic/main amd64 libwebpmux3 amd64 0.6.1-2 [19.6 kB]\r\n",
      "\r",
      "11% [28 libwebpmux3 19.6 kB/19.6 kB 100%]                      377 kB/s 2min 7s\r",
      "11% [Waiting for headers]                                      377 kB/s 2min 7s"
     ]
    },
    {
     "name": "stdout",
     "output_type": "stream",
     "text": [
      "\r",
      "                                                                               \r",
      "Get:29 http://asia-east1.gce.archive.ubuntu.com/ubuntu bionic/universe amd64 libx264-152 amd64 2:0.152.2854+gite9a5903-2 [609 kB]\r\n",
      "\r",
      "11% [29 libx264-152 18.2 kB/609 kB 3%]                         377 kB/s 2min 7s\r",
      "12% [Waiting for headers]                                      377 kB/s 2min 6s"
     ]
    },
    {
     "name": "stdout",
     "output_type": "stream",
     "text": [
      "\r",
      "                                                                               \r",
      "Get:30 http://asia-east1.gce.archive.ubuntu.com/ubuntu bionic/universe amd64 libx265-146 amd64 2.6-3 [1026 kB]\r\n",
      "\r",
      "12% [30 libx265-146 26.3 kB/1026 kB 3%]                        377 kB/s 2min 5s"
     ]
    },
    {
     "name": "stdout",
     "output_type": "stream",
     "text": [
      "\r",
      "14% [Waiting for headers]                                      377 kB/s 2min 3s"
     ]
    },
    {
     "name": "stdout",
     "output_type": "stream",
     "text": [
      "\r",
      "                                                                               \r",
      "Get:31 http://asia-east1.gce.archive.ubuntu.com/ubuntu bionic/universe amd64 libxvidcore4 amd64 2:1.3.5-1 [200 kB]\r\n",
      "\r",
      "14% [31 libxvidcore4 21.3 kB/200 kB 11%]                       377 kB/s 2min 3s\r",
      "15% [Waiting for headers]                                      377 kB/s 2min 2s"
     ]
    },
    {
     "name": "stdout",
     "output_type": "stream",
     "text": [
      "\r",
      "                                                                               \r",
      "Get:32 http://asia-east1.gce.archive.ubuntu.com/ubuntu bionic/universe amd64 libzvbi-common all 0.2.35-13 [32.1 kB]\r\n",
      "\r",
      "15% [32 libzvbi-common 17.2 kB/32.1 kB 53%]                    377 kB/s 2min 2s\r",
      "15% [Waiting for headers]                                      377 kB/s 2min 2s"
     ]
    },
    {
     "name": "stdout",
     "output_type": "stream",
     "text": [
      "\r",
      "                                                                               \r",
      "Get:33 http://asia-east1.gce.archive.ubuntu.com/ubuntu bionic/universe amd64 libzvbi0 amd64 0.2.35-13 [235 kB]\r\n",
      "\r",
      "15% [33 libzvbi0 26.4 kB/235 kB 11%]                           377 kB/s 2min 2s\r",
      "15% [Waiting for headers]                                      377 kB/s 2min 2s"
     ]
    },
    {
     "name": "stdout",
     "output_type": "stream",
     "text": [
      "\r",
      "                                                                               \r",
      "Get:34 http://asia-east1.gce.archive.ubuntu.com/ubuntu bionic-updates/universe amd64 libavcodec57 amd64 7:3.4.8-0ubuntu0.2 [4595 kB]\r\n",
      "\r",
      "15% [34 libavcodec57 11.4 kB/4595 kB 0%]                       377 kB/s 2min 2s"
     ]
    },
    {
     "name": "stdout",
     "output_type": "stream",
     "text": [
      "\r",
      "23% [Waiting for headers]                                     377 kB/s 1min 49s"
     ]
    },
    {
     "name": "stdout",
     "output_type": "stream",
     "text": [
      "\r",
      "                                                                               \r",
      "Get:35 http://asia-east1.gce.archive.ubuntu.com/ubuntu bionic/main amd64 libraw1394-11 amd64 2.1.2-1 [30.7 kB]\r\n",
      "\r",
      "23% [35 libraw1394-11 30.7 kB/30.7 kB 100%]                   377 kB/s 1min 49s\r",
      "23% [Waiting for headers]                                     377 kB/s 1min 49s"
     ]
    },
    {
     "name": "stdout",
     "output_type": "stream",
     "text": [
      "\r",
      "                                                                               \r",
      "Get:36 http://asia-east1.gce.archive.ubuntu.com/ubuntu bionic/main amd64 libavc1394-0 amd64 0.5.4-4build1 [16.1 kB]\r\n",
      "\r",
      "23% [36 libavc1394-0 16.1 kB/16.1 kB 100%]                    377 kB/s 1min 49s\r",
      "24% [Working]                                                 377 kB/s 1min 49s"
     ]
    },
    {
     "name": "stdout",
     "output_type": "stream",
     "text": [
      "\r",
      "                                                                               \r",
      "Get:37 http://asia-east1.gce.archive.ubuntu.com/ubuntu bionic/universe amd64 libass9 amd64 1:0.14.0-1 [88.2 kB]\r\n",
      "\r",
      "24% [37 libass9 21.5 kB/88.2 kB 24%]                          377 kB/s 1min 49s\r",
      "24% [Waiting for headers]                                     377 kB/s 1min 49s"
     ]
    },
    {
     "name": "stdout",
     "output_type": "stream",
     "text": [
      "\r",
      "                                                                               \r",
      "Get:38 http://asia-east1.gce.archive.ubuntu.com/ubuntu bionic/universe amd64 libbluray2 amd64 1:1.0.2-3 [141 kB]\r\n",
      "\r",
      "24% [38 libbluray2 60.1 kB/141 kB 43%]                        377 kB/s 1min 49s\r",
      "24% [Waiting for headers]                                     377 kB/s 1min 49s"
     ]
    },
    {
     "name": "stdout",
     "output_type": "stream",
     "text": [
      "\r",
      "                                                                               \r",
      "Get:39 http://asia-east1.gce.archive.ubuntu.com/ubuntu bionic/universe amd64 libchromaprint1 amd64 1.4.3-1 [36.8 kB]\r\n",
      "\r",
      "25% [39 libchromaprint1 36.8 kB/36.8 kB 100%]                 377 kB/s 1min 49s\r",
      "25% [Waiting for headers]                                     377 kB/s 1min 49s"
     ]
    },
    {
     "name": "stdout",
     "output_type": "stream",
     "text": [
      "\r",
      "                                                                               \r",
      "Get:40 http://asia-east1.gce.archive.ubuntu.com/ubuntu bionic/universe amd64 libgme0 amd64 0.6.2-1 [121 kB]\r\n",
      "\r",
      "25% [40 libgme0 16.4 kB/121 kB 14%]                           377 kB/s 1min 49s\r",
      "25% [Waiting for headers]                                     377 kB/s 1min 48s"
     ]
    },
    {
     "name": "stdout",
     "output_type": "stream",
     "text": [
      "\r",
      "                                                                               \r",
      "Get:41 http://asia-east1.gce.archive.ubuntu.com/ubuntu bionic/main amd64 libmpg123-0 amd64 1.25.10-1 [125 kB]\r\n",
      "\r",
      "25% [41 libmpg123-0 26.1 kB/125 kB 21%]                       377 kB/s 1min 48s\r",
      "26% [Waiting for headers]                                     377 kB/s 1min 48s"
     ]
    },
    {
     "name": "stdout",
     "output_type": "stream",
     "text": [
      "\r",
      "                                                                               \r",
      "Get:42 http://asia-east1.gce.archive.ubuntu.com/ubuntu bionic/main amd64 libvorbisfile3 amd64 1.3.5-4.2 [16.0 kB]\r\n",
      "\r",
      "26% [42 libvorbisfile3 16.0 kB/16.0 kB 100%]                  377 kB/s 1min 48s\r",
      "26% [Waiting for headers]                                     377 kB/s 1min 48s"
     ]
    },
    {
     "name": "stdout",
     "output_type": "stream",
     "text": [
      "\r",
      "26% [Waiting for headers]                                     377 kB/s 1min 48s\r",
      "                                                                               \r",
      "Get:43 http://asia-east1.gce.archive.ubuntu.com/ubuntu bionic/universe amd64 libopenmpt0 amd64 0.3.6-1 [561 kB]\r\n",
      "\r",
      "26% [43 libopenmpt0 15.8 kB/561 kB 3%]                        377 kB/s 1min 48s\r",
      "27% [Waiting for headers]                                     377 kB/s 1min 46s\r",
      "                                                                               \r",
      "Get:44 http://asia-east1.gce.archive.ubuntu.com/ubuntu bionic-updates/main amd64 libssh-gcrypt-4 amd64 0.8.0~20170825.94fa1e38-1ubuntu0.7 [172 kB]\r\n",
      "\r",
      "27% [44 libssh-gcrypt-4 44.4 kB/172 kB 26%]                   377 kB/s 1min 46s\r",
      "28% [Waiting for headers]                                     377 kB/s 1min 46s\r",
      "                                                                               \r",
      "Get:45 http://asia-east1.gce.archive.ubuntu.com/ubuntu bionic-updates/universe amd64 libavformat57 amd64 7:3.4.8-0ubuntu0.2 [953 kB]\r\n",
      "\r",
      "28% [45 libavformat57 65.5 kB/953 kB 7%]                      377 kB/s 1min 46s\r",
      "29% [Waiting for headers]                                     377 kB/s 1min 43s\r",
      "                                                                               \r",
      "Get:46 http://asia-east1.gce.archive.ubuntu.com/ubuntu bionic-updates/universe amd64 libavresample3 amd64 7:3.4.8-0ubuntu0.2 [52.6 kB]\r\n",
      "\r",
      "29% [46 libavresample3 33.0 kB/52.6 kB 63%]                   377 kB/s 1min 43s\r",
      "30% [Working]                                                 377 kB/s 1min 43s"
     ]
    },
    {
     "name": "stdout",
     "output_type": "stream",
     "text": [
      "\r",
      "                                                                               \r",
      "Get:47 http://asia-east1.gce.archive.ubuntu.com/ubuntu bionic/universe amd64 libbs2b0 amd64 3.1.0+dfsg-2.2 [10.5 kB]\r\n",
      "\r",
      "30% [47 libbs2b0 10.5 kB/10.5 kB 100%]                            1480 kB/s 26s\r",
      "30% [Waiting for headers]                                         1480 kB/s 26s"
     ]
    },
    {
     "name": "stdout",
     "output_type": "stream",
     "text": [
      "\r",
      "                                                                               \r",
      "Get:48 http://asia-east1.gce.archive.ubuntu.com/ubuntu bionic/universe amd64 libflite1 amd64 2.1-release-1 [12.8 MB]\r\n",
      "\r",
      "30% [48 libflite1 2411 B/12.8 MB 0%]                              1480 kB/s 26s"
     ]
    },
    {
     "name": "stdout",
     "output_type": "stream",
     "text": [
      "\r",
      "51% [Waiting for headers]                                         1480 kB/s 17s\r",
      "                                                                               \r",
      "Get:49 http://asia-east1.gce.archive.ubuntu.com/ubuntu bionic-updates/universe amd64 libmysofa0 amd64 0.6~dfsg0-3+deb10u1build1 [38.5 kB]\r\n",
      "\r",
      "51% [49 libmysofa0 38.5 kB/38.5 kB 100%]                          1480 kB/s 17s\r",
      "51% [Working]                                                     1480 kB/s 17s\r",
      "                                                                               \r",
      "Get:50 http://asia-east1.gce.archive.ubuntu.com/ubuntu bionic-updates/universe amd64 libpostproc54 amd64 7:3.4.8-0ubuntu0.2 [50.3 kB]\r\n",
      "\r",
      "51% [50 libpostproc54 25.5 kB/50.3 kB 51%]                        1480 kB/s 17s\r",
      "51% [Working]                                                     1480 kB/s 17s"
     ]
    },
    {
     "name": "stdout",
     "output_type": "stream",
     "text": [
      "\r",
      "                                                                               \r",
      "Get:51 http://asia-east1.gce.archive.ubuntu.com/ubuntu bionic/main amd64 libfftw3-double3 amd64 3.3.7-1 [735 kB]\r\n",
      "\r",
      "51% [51 libfftw3-double3 26.4 kB/735 kB 4%]                       1480 kB/s 17s"
     ]
    },
    {
     "name": "stdout",
     "output_type": "stream",
     "text": [
      "\r",
      "53% [Waiting for headers]                                         1480 kB/s 17s"
     ]
    },
    {
     "name": "stdout",
     "output_type": "stream",
     "text": [
      "\r",
      "                                                                               \r",
      "Get:52 http://asia-east1.gce.archive.ubuntu.com/ubuntu bionic/main amd64 libsamplerate0 amd64 0.1.9-1 [938 kB]\r\n",
      "\r",
      "53% [52 libsamplerate0 25.9 kB/938 kB 3%]                         1480 kB/s 17s\r",
      "54% [Waiting for headers]                                         1480 kB/s 16s"
     ]
    },
    {
     "name": "stdout",
     "output_type": "stream",
     "text": [
      "\r",
      "                                                                               \r",
      "Get:53 http://asia-east1.gce.archive.ubuntu.com/ubuntu bionic/universe amd64 librubberband2 amd64 1.8.1-7ubuntu2 [86.7 kB]\r\n",
      "\r",
      "54% [53 librubberband2 40.4 kB/86.7 kB 47%]                       1480 kB/s 16s\r",
      "55% [Waiting for headers]                                         1480 kB/s 16s\r",
      "                                                                               \r",
      "Get:54 http://asia-east1.gce.archive.ubuntu.com/ubuntu bionic-updates/universe amd64 libswscale4 amd64 7:3.4.8-0ubuntu0.2 [150 kB]\r\n",
      "\r",
      "55% [54 libswscale4 12.4 kB/150 kB 8%]                            1480 kB/s 16s\r",
      "55% [Waiting for headers]                                         1480 kB/s 16s"
     ]
    },
    {
     "name": "stdout",
     "output_type": "stream",
     "text": [
      "\r",
      "                                                                               \r",
      "Get:55 http://asia-east1.gce.archive.ubuntu.com/ubuntu bionic/universe amd64 libnorm1 amd64 1.5r6+dfsg1-6 [224 kB]\r\n",
      "\r",
      "55% [55 libnorm1 30.0 kB/224 kB 13%]                              1480 kB/s 16s\r",
      "56% [Waiting for headers]                                         1480 kB/s 16s\r",
      "                                                                               \r",
      "Get:56 http://asia-east1.gce.archive.ubuntu.com/ubuntu bionic/universe amd64 libpgm-5.2-0 amd64 5.2.122~dfsg-2 [157 kB]\r\n",
      "\r",
      "56% [56 libpgm-5.2-0 26.5 kB/157 kB 17%]                          1480 kB/s 16s\r",
      "56% [Waiting for headers]                                         1480 kB/s 16s\r",
      "                                                                               \r",
      "Get:57 http://asia-east1.gce.archive.ubuntu.com/ubuntu bionic/main amd64 libsodium23 amd64 1.0.16-2 [143 kB]\r\n",
      "\r",
      "56% [57 libsodium23 12.3 kB/143 kB 9%]                            1480 kB/s 16s\r",
      "57% [Waiting for headers]                                         1480 kB/s 16s\r",
      "                                                                               \r",
      "Get:58 http://asia-east1.gce.archive.ubuntu.com/ubuntu bionic-updates/universe amd64 libzmq5 amd64 4.2.5-1ubuntu0.2 [221 kB]\r\n",
      "\r",
      "57% [58 libzmq5 12.3 kB/221 kB 6%]                                1480 kB/s 16s\r",
      "57% [Waiting for headers]                                         1480 kB/s 15s\r",
      "                                                                               \r",
      "Get:59 http://asia-east1.gce.archive.ubuntu.com/ubuntu bionic-updates/universe amd64 libavfilter6 amd64 7:3.4.8-0ubuntu0.2 [874 kB]\r\n",
      "\r",
      "57% [59 libavfilter6 41.0 kB/874 kB 5%]                           1480 kB/s 15s"
     ]
    },
    {
     "name": "stdout",
     "output_type": "stream",
     "text": [
      "\r",
      "59% [Waiting for headers]                                         1480 kB/s 15s"
     ]
    },
    {
     "name": "stdout",
     "output_type": "stream",
     "text": [
      "\r",
      "                                                                               \r",
      "Get:60 http://asia-east1.gce.archive.ubuntu.com/ubuntu bionic-updates/main amd64 libcaca0 amd64 0.99.beta19-2ubuntu0.18.04.1 [203 kB]\r\n",
      "\r",
      "59% [60 libcaca0 40.4 kB/203 kB 20%]                              1480 kB/s 15s\r",
      "60% [Waiting for headers]                                         1480 kB/s 15s"
     ]
    },
    {
     "name": "stdout",
     "output_type": "stream",
     "text": [
      "\r",
      "                                                                               \r",
      "Get:61 http://asia-east1.gce.archive.ubuntu.com/ubuntu bionic/main amd64 libcdio17 amd64 1.0.0-2ubuntu2 [58.8 kB]\r\n"
     ]
    },
    {
     "name": "stdout",
     "output_type": "stream",
     "text": [
      "\r",
      "60% [61 libcdio17 40.6 kB/58.8 kB 69%]                            1480 kB/s 15s\r",
      "60% [Waiting for headers]                                         1480 kB/s 15s"
     ]
    },
    {
     "name": "stdout",
     "output_type": "stream",
     "text": [
      "\r",
      "                                                                               \r",
      "Get:62 http://asia-east1.gce.archive.ubuntu.com/ubuntu bionic/main amd64 libcdio-cdda2 amd64 10.2+0.94+2-2build1 [17.7 kB]\r\n",
      "\r",
      "60% [62 libcdio-cdda2 17.7 kB/17.7 kB 100%]                       1480 kB/s 15s\r",
      "60% [Waiting for headers]                                         1480 kB/s 15s"
     ]
    },
    {
     "name": "stdout",
     "output_type": "stream",
     "text": [
      "\r",
      "                                                                               \r",
      "Get:63 http://asia-east1.gce.archive.ubuntu.com/ubuntu bionic/main amd64 libcdio-paranoia2 amd64 10.2+0.94+2-2build1 [17.2 kB]\r\n",
      "\r",
      "60% [63 libcdio-paranoia2 17.2 kB/17.2 kB 100%]                   1480 kB/s 15s\r",
      "61% [Waiting for headers]                                         1480 kB/s 15s"
     ]
    },
    {
     "name": "stdout",
     "output_type": "stream",
     "text": [
      "\r",
      "                                                                               \r",
      "Get:64 http://asia-east1.gce.archive.ubuntu.com/ubuntu bionic/universe amd64 libdc1394-22 amd64 2.2.5-1 [77.5 kB]\r\n",
      "\r",
      "61% [64 libdc1394-22 11.3 kB/77.5 kB 15%]                         1480 kB/s 15s\r",
      "61% [Waiting for headers]                                         1480 kB/s 15s"
     ]
    },
    {
     "name": "stdout",
     "output_type": "stream",
     "text": [
      "\r",
      "                                                                               \r",
      "Get:65 http://asia-east1.gce.archive.ubuntu.com/ubuntu bionic/main amd64 libiec61883-0 amd64 1.2.0-2 [23.5 kB]\r\n",
      "\r",
      "61% [65 libiec61883-0 23.5 kB/23.5 kB 100%]                       1480 kB/s 15s\r",
      "61% [Waiting for headers]                                         1480 kB/s 15s"
     ]
    },
    {
     "name": "stdout",
     "output_type": "stream",
     "text": [
      "\r",
      "                                                                               \r",
      "Get:66 http://asia-east1.gce.archive.ubuntu.com/ubuntu bionic/main amd64 libjack-jackd2-0 amd64 1.9.12~dfsg-2 [263 kB]\r\n",
      "\r",
      "61% [66 libjack-jackd2-0 15.1 kB/263 kB 6%]                       1480 kB/s 15s\r",
      "62% [Waiting for headers]                                         1480 kB/s 14s"
     ]
    },
    {
     "name": "stdout",
     "output_type": "stream",
     "text": [
      "\r",
      "                                                                               \r",
      "Get:67 http://asia-east1.gce.archive.ubuntu.com/ubuntu bionic/universe amd64 libopenal-data all 1:1.18.2-2 [102 kB]\r\n",
      "\r",
      "62% [67 libopenal-data 32.0 kB/102 kB 31%]                        1480 kB/s 14s\r",
      "62% [Waiting for headers]                                         1480 kB/s 14s"
     ]
    },
    {
     "name": "stdout",
     "output_type": "stream",
     "text": [
      "\r",
      "                                                                               \r",
      "Get:68 http://asia-east1.gce.archive.ubuntu.com/ubuntu bionic/universe amd64 libsndio6.1 amd64 1.1.0-3 [23.4 kB]\r\n",
      "\r",
      "62% [68 libsndio6.1 23.4 kB/23.4 kB 100%]                         1480 kB/s 14s\r",
      "63% [Waiting for headers]                                         1480 kB/s 14s"
     ]
    },
    {
     "name": "stdout",
     "output_type": "stream",
     "text": [
      "\r",
      "                                                                               \r",
      "Get:69 http://asia-east1.gce.archive.ubuntu.com/ubuntu bionic/universe amd64 libopenal1 amd64 1:1.18.2-2 [266 kB]\r\n",
      "\r",
      "63% [69 libopenal1 37.6 kB/266 kB 14%]                            1480 kB/s 14s\r",
      "63% [Waiting for headers]                                         1480 kB/s 14s"
     ]
    },
    {
     "name": "stdout",
     "output_type": "stream",
     "text": [
      "\r",
      "                                                                               \r",
      "Get:70 http://asia-east1.gce.archive.ubuntu.com/ubuntu bionic-updates/universe amd64 libsdl2-2.0-0 amd64 2.0.8+dfsg1-1ubuntu1.18.04.4 [382 kB]\r\n",
      "\r",
      "63% [70 libsdl2-2.0-0 27.8 kB/382 kB 7%]                          1480 kB/s 14s\r",
      "64% [Waiting for headers]                                         1480 kB/s 14s\r",
      "                                                                               \r",
      "Get:71 http://asia-east1.gce.archive.ubuntu.com/ubuntu bionic-updates/universe amd64 libavdevice57 amd64 7:3.4.8-0ubuntu0.2 [74.9 kB]\r\n",
      "\r",
      "64% [71 libavdevice57 49.2 kB/74.9 kB 66%]                        1480 kB/s 14s\r",
      "64% [Waiting for headers]                                         1480 kB/s 14s\r",
      "                                                                               \r",
      "Get:72 http://asia-east1.gce.archive.ubuntu.com/ubuntu bionic-updates/universe amd64 ffmpeg amd64 7:3.4.8-0ubuntu0.2 [1587 kB]\r\n",
      "\r",
      "65% [72 ffmpeg 41.9 kB/1587 kB 3%]                                1480 kB/s 14s"
     ]
    },
    {
     "name": "stdout",
     "output_type": "stream",
     "text": [
      "\r",
      "67% [Waiting for headers]                                         1480 kB/s 13s"
     ]
    },
    {
     "name": "stdout",
     "output_type": "stream",
     "text": [
      "\r",
      "                                                                               \r",
      "Get:73 http://asia-east1.gce.archive.ubuntu.com/ubuntu bionic/universe amd64 libaacs0 amd64 0.9.0-1 [51.4 kB]\r\n",
      "\r",
      "67% [73 libaacs0 27.0 kB/51.4 kB 53%]                              3171 kB/s 6s\r",
      "68% [Waiting for headers]                                          3171 kB/s 6s"
     ]
    },
    {
     "name": "stdout",
     "output_type": "stream",
     "text": [
      "\r",
      "                                                                               \r",
      "Get:74 http://asia-east1.gce.archive.ubuntu.com/ubuntu bionic/universe amd64 libbdplus0 amd64 0.1.2-2 [46.6 kB]\r\n",
      "\r",
      "68% [74 libbdplus0 40.4 kB/46.6 kB 87%]                            3171 kB/s 6s\r",
      "68% [Waiting for headers]                                          3171 kB/s 6s\r",
      "                                                                               \r",
      "Get:75 http://asia-east1.gce.archive.ubuntu.com/ubuntu bionic-updates/main amd64 libllvm10 amd64 1:10.0.0-4ubuntu1~18.04.2 [15.4 MB]\r\n",
      "\r",
      "68% [75 libllvm10 20.7 kB/15.4 MB 0%]                              3171 kB/s 6s"
     ]
    },
    {
     "name": "stdout",
     "output_type": "stream",
     "text": [
      "\r",
      "93% [Waiting for headers]                                          3171 kB/s 1s"
     ]
    },
    {
     "name": "stdout",
     "output_type": "stream",
     "text": [
      "\r",
      "93% [Waiting for headers]                                          3171 kB/s 1s"
     ]
    },
    {
     "name": "stdout",
     "output_type": "stream",
     "text": [
      "\r",
      "                                                                               \r",
      "Get:76 http://asia-east1.gce.archive.ubuntu.com/ubuntu bionic-updates/universe amd64 mesa-va-drivers amd64 20.0.8-0ubuntu1~18.04.1 [2376 kB]\r\n",
      "\r",
      "93% [76 mesa-va-drivers 12.3 kB/2376 kB 1%]                        3171 kB/s 1s\r",
      "97% [Waiting for headers]                                          3171 kB/s 0s"
     ]
    },
    {
     "name": "stdout",
     "output_type": "stream",
     "text": [
      "\r",
      "                                                                               \r",
      "Get:77 http://asia-east1.gce.archive.ubuntu.com/ubuntu bionic/universe amd64 i965-va-driver amd64 2.1.0-0ubuntu1 [925 kB]\r\n",
      "\r",
      "97% [77 i965-va-driver 40.4 kB/925 kB 4%]                          3171 kB/s 0s\r",
      "98% [Waiting for headers]                                          3171 kB/s 0s"
     ]
    },
    {
     "name": "stdout",
     "output_type": "stream",
     "text": [
      "\r",
      "                                                                               \r",
      "Get:78 http://asia-east1.gce.archive.ubuntu.com/ubuntu bionic/universe amd64 va-driver-all amd64 2.1.0-3 [4376 B]\r\n",
      "\r",
      "98% [78 va-driver-all 4376 B/4376 B 100%]                          3171 kB/s 0s\r",
      "99% [Waiting for headers]                                          3171 kB/s 0s\r",
      "                                                                               \r",
      "Get:79 http://asia-east1.gce.archive.ubuntu.com/ubuntu bionic-updates/universe amd64 xvfb amd64 2:1.19.6-1ubuntu4.8 [784 kB]\r\n",
      "\r",
      "99% [79 xvfb 12.3 kB/784 kB 2%]                                    3171 kB/s 0s"
     ]
    },
    {
     "name": "stdout",
     "output_type": "stream",
     "text": [
      "\r",
      "100% [Working]                                                     3171 kB/s 0s\r",
      "                                                                               \r",
      "Fetched 50.5 MB in 21s (2425 kB/s)\r\n"
     ]
    },
    {
     "name": "stdout",
     "output_type": "stream",
     "text": [
      "\r",
      "Extracting templates from packages: 37%"
     ]
    },
    {
     "name": "stdout",
     "output_type": "stream",
     "text": [
      "\r",
      "Extracting templates from packages: 75%"
     ]
    },
    {
     "name": "stdout",
     "output_type": "stream",
     "text": [
      "\r",
      "Extracting templates from packages: 100%\r\n"
     ]
    },
    {
     "name": "stdout",
     "output_type": "stream",
     "text": [
      "Selecting previously unselected package libxss1:amd64.\r\n",
      "(Reading database ... \r"
     ]
    },
    {
     "name": "stdout",
     "output_type": "stream",
     "text": [
      "(Reading database ... 5%\r",
      "(Reading database ... 10%\r",
      "(Reading database ... 15%\r",
      "(Reading database ... 20%\r",
      "(Reading database ... 25%\r",
      "(Reading database ... 30%\r",
      "(Reading database ... 35%\r",
      "(Reading database ... 40%\r",
      "(Reading database ... 45%\r",
      "(Reading database ... 50%\r",
      "(Reading database ... 55%\r",
      "(Reading database ... 60%\r",
      "(Reading database ... 65%\r",
      "(Reading database ... 70%\r",
      "(Reading database ... 75%\r",
      "(Reading database ... 80%\r",
      "(Reading database ... 85%\r"
     ]
    },
    {
     "name": "stdout",
     "output_type": "stream",
     "text": [
      "(Reading database ... 90%\r",
      "(Reading database ... 95%\r",
      "(Reading database ... 100%\r",
      "(Reading database ... 225610 files and directories currently installed.)\r\n",
      "Preparing to unpack .../00-libxss1_1%3a1.2.2-1_amd64.deb ...\r\n",
      "Unpacking libxss1:amd64 (1:1.2.2-1) ...\r\n"
     ]
    },
    {
     "name": "stdout",
     "output_type": "stream",
     "text": [
      "Preparing to unpack .../01-libdrm-common_2.4.101-2~18.04.1_all.deb ...\r\n"
     ]
    },
    {
     "name": "stdout",
     "output_type": "stream",
     "text": [
      "Unpacking libdrm-common (2.4.101-2~18.04.1) over (2.4.99-1ubuntu1~18.04.2) ...\r\n"
     ]
    },
    {
     "name": "stdout",
     "output_type": "stream",
     "text": [
      "Preparing to unpack .../02-libdrm-dev_2.4.101-2~18.04.1_amd64.deb ...\r\n",
      "Unpacking libdrm-dev:amd64 (2.4.101-2~18.04.1) over (2.4.99-1ubuntu1~18.04.2) ...\r\n"
     ]
    },
    {
     "name": "stdout",
     "output_type": "stream",
     "text": [
      "Preparing to unpack .../03-libdrm-intel1_2.4.101-2~18.04.1_amd64.deb ...\r\n",
      "Unpacking libdrm-intel1:amd64 (2.4.101-2~18.04.1) over (2.4.99-1ubuntu1~18.04.2) ...\r\n"
     ]
    },
    {
     "name": "stdout",
     "output_type": "stream",
     "text": [
      "Preparing to unpack .../04-libdrm-radeon1_2.4.101-2~18.04.1_amd64.deb ...\r\n"
     ]
    },
    {
     "name": "stdout",
     "output_type": "stream",
     "text": [
      "Unpacking libdrm-radeon1:amd64 (2.4.101-2~18.04.1) over (2.4.99-1ubuntu1~18.04.2) ...\r\n"
     ]
    },
    {
     "name": "stdout",
     "output_type": "stream",
     "text": [
      "Preparing to unpack .../05-libdrm-nouveau2_2.4.101-2~18.04.1_amd64.deb ...\r\n",
      "Unpacking libdrm-nouveau2:amd64 (2.4.101-2~18.04.1) over (2.4.99-1ubuntu1~18.04.2) ...\r\n"
     ]
    },
    {
     "name": "stdout",
     "output_type": "stream",
     "text": [
      "Preparing to unpack .../06-libdrm-amdgpu1_2.4.101-2~18.04.1_amd64.deb ...\r\n"
     ]
    },
    {
     "name": "stdout",
     "output_type": "stream",
     "text": [
      "Unpacking libdrm-amdgpu1:amd64 (2.4.101-2~18.04.1) over (2.4.99-1ubuntu1~18.04.2) ...\r\n"
     ]
    },
    {
     "name": "stdout",
     "output_type": "stream",
     "text": [
      "Preparing to unpack .../07-libdrm2_2.4.101-2~18.04.1_amd64.deb ...\r\n",
      "Unpacking libdrm2:amd64 (2.4.101-2~18.04.1) over (2.4.99-1ubuntu1~18.04.2) ...\r\n"
     ]
    },
    {
     "name": "stdout",
     "output_type": "stream",
     "text": [
      "Selecting previously unselected package libnuma1:amd64.\r\n",
      "Preparing to unpack .../08-libnuma1_2.0.11-2.1ubuntu0.1_amd64.deb ...\r\n",
      "Unpacking libnuma1:amd64 (2.0.11-2.1ubuntu0.1) ...\r\n"
     ]
    },
    {
     "name": "stdout",
     "output_type": "stream",
     "text": [
      "Selecting previously unselected package libva2:amd64.\r\n"
     ]
    },
    {
     "name": "stdout",
     "output_type": "stream",
     "text": [
      "Preparing to unpack .../09-libva2_2.1.0-3_amd64.deb ...\r\n",
      "Unpacking libva2:amd64 (2.1.0-3) ...\r\n"
     ]
    },
    {
     "name": "stdout",
     "output_type": "stream",
     "text": [
      "Selecting previously unselected package libva-drm2:amd64.\r\n",
      "Preparing to unpack .../10-libva-drm2_2.1.0-3_amd64.deb ...\r\n",
      "Unpacking libva-drm2:amd64 (2.1.0-3) ...\r\n"
     ]
    },
    {
     "name": "stdout",
     "output_type": "stream",
     "text": [
      "Selecting previously unselected package libva-x11-2:amd64.\r\n",
      "Preparing to unpack .../11-libva-x11-2_2.1.0-3_amd64.deb ...\r\n",
      "Unpacking libva-x11-2:amd64 (2.1.0-3) ...\r\n"
     ]
    },
    {
     "name": "stdout",
     "output_type": "stream",
     "text": [
      "Selecting previously unselected package libavutil55:amd64.\r\n",
      "Preparing to unpack .../12-libavutil55_7%3a3.4.8-0ubuntu0.2_amd64.deb ...\r\n",
      "Unpacking libavutil55:amd64 (7:3.4.8-0ubuntu0.2) ...\r\n"
     ]
    },
    {
     "name": "stdout",
     "output_type": "stream",
     "text": [
      "Selecting previously unselected package libcrystalhd3:amd64.\r\n"
     ]
    },
    {
     "name": "stdout",
     "output_type": "stream",
     "text": [
      "Preparing to unpack .../13-libcrystalhd3_1%3a0.0~git20110715.fdd2f19-12_amd64.deb ...\r\n",
      "Unpacking libcrystalhd3:amd64 (1:0.0~git20110715.fdd2f19-12) ...\r\n"
     ]
    },
    {
     "name": "stdout",
     "output_type": "stream",
     "text": [
      "Selecting previously unselected package libgsm1:amd64.\r\n",
      "Preparing to unpack .../14-libgsm1_1.0.13-4build1_amd64.deb ...\r\n",
      "Unpacking libgsm1:amd64 (1.0.13-4build1) ...\r\n"
     ]
    },
    {
     "name": "stdout",
     "output_type": "stream",
     "text": [
      "Selecting previously unselected package libmp3lame0:amd64.\r\n",
      "Preparing to unpack .../15-libmp3lame0_3.100-2_amd64.deb ...\r\n",
      "Unpacking libmp3lame0:amd64 (3.100-2) ...\r\n"
     ]
    },
    {
     "name": "stdout",
     "output_type": "stream",
     "text": [
      "Selecting previously unselected package libopenjp2-7:amd64.\r\n"
     ]
    },
    {
     "name": "stdout",
     "output_type": "stream",
     "text": [
      "Preparing to unpack .../16-libopenjp2-7_2.3.0-2build0.18.04.1_amd64.deb ...\r\n",
      "Unpacking libopenjp2-7:amd64 (2.3.0-2build0.18.04.1) ...\r\n"
     ]
    },
    {
     "name": "stdout",
     "output_type": "stream",
     "text": [
      "Selecting previously unselected package libopus0:amd64.\r\n",
      "Preparing to unpack .../17-libopus0_1.1.2-1ubuntu1_amd64.deb ...\r\n",
      "Unpacking libopus0:amd64 (1.1.2-1ubuntu1) ...\r\n"
     ]
    },
    {
     "name": "stdout",
     "output_type": "stream",
     "text": [
      "Selecting previously unselected package libshine3:amd64.\r\n",
      "Preparing to unpack .../18-libshine3_3.1.1-1_amd64.deb ...\r\n",
      "Unpacking libshine3:amd64 (3.1.1-1) ...\r\n"
     ]
    },
    {
     "name": "stdout",
     "output_type": "stream",
     "text": [
      "Selecting previously unselected package libsnappy1v5:amd64.\r\n",
      "Preparing to unpack .../19-libsnappy1v5_1.1.7-1_amd64.deb ...\r\n"
     ]
    },
    {
     "name": "stdout",
     "output_type": "stream",
     "text": [
      "Unpacking libsnappy1v5:amd64 (1.1.7-1) ...\r\n",
      "Selecting previously unselected package libspeex1:amd64.\r\n"
     ]
    },
    {
     "name": "stdout",
     "output_type": "stream",
     "text": [
      "Preparing to unpack .../20-libspeex1_1.2~rc1.2-1ubuntu2_amd64.deb ...\r\n",
      "Unpacking libspeex1:amd64 (1.2~rc1.2-1ubuntu2) ...\r\n",
      "Selecting previously unselected package libsoxr0:amd64.\r\n"
     ]
    },
    {
     "name": "stdout",
     "output_type": "stream",
     "text": [
      "Preparing to unpack .../21-libsoxr0_0.1.2-3_amd64.deb ...\r\n",
      "Unpacking libsoxr0:amd64 (0.1.2-3) ...\r\n"
     ]
    },
    {
     "name": "stdout",
     "output_type": "stream",
     "text": [
      "Selecting previously unselected package libswresample2:amd64.\r\n",
      "Preparing to unpack .../22-libswresample2_7%3a3.4.8-0ubuntu0.2_amd64.deb ...\r\n",
      "Unpacking libswresample2:amd64 (7:3.4.8-0ubuntu0.2) ...\r\n"
     ]
    },
    {
     "name": "stdout",
     "output_type": "stream",
     "text": [
      "Selecting previously unselected package libtheora0:amd64.\r\n",
      "Preparing to unpack .../23-libtheora0_1.1.1+dfsg.1-14_amd64.deb ...\r\n",
      "Unpacking libtheora0:amd64 (1.1.1+dfsg.1-14) ...\r\n"
     ]
    },
    {
     "name": "stdout",
     "output_type": "stream",
     "text": [
      "Selecting previously unselected package libtwolame0:amd64.\r\n",
      "Preparing to unpack .../24-libtwolame0_0.3.13-3_amd64.deb ...\r\n",
      "Unpacking libtwolame0:amd64 (0.3.13-3) ...\r\n"
     ]
    },
    {
     "name": "stdout",
     "output_type": "stream",
     "text": [
      "Selecting previously unselected package libvpx5:amd64.\r\n",
      "Preparing to unpack .../25-libvpx5_1.7.0-3ubuntu0.18.04.1_amd64.deb ...\r\n",
      "Unpacking libvpx5:amd64 (1.7.0-3ubuntu0.18.04.1) ...\r\n"
     ]
    },
    {
     "name": "stdout",
     "output_type": "stream",
     "text": [
      "Selecting previously unselected package libwavpack1:amd64.\r\n",
      "Preparing to unpack .../26-libwavpack1_5.1.0-2ubuntu1.4_amd64.deb ...\r\n",
      "Unpacking libwavpack1:amd64 (5.1.0-2ubuntu1.4) ...\r\n"
     ]
    },
    {
     "name": "stdout",
     "output_type": "stream",
     "text": [
      "Selecting previously unselected package libwebpmux3:amd64.\r\n",
      "Preparing to unpack .../27-libwebpmux3_0.6.1-2_amd64.deb ...\r\n",
      "Unpacking libwebpmux3:amd64 (0.6.1-2) ...\r\n"
     ]
    },
    {
     "name": "stdout",
     "output_type": "stream",
     "text": [
      "Selecting previously unselected package libx264-152:amd64.\r\n",
      "Preparing to unpack .../28-libx264-152_2%3a0.152.2854+gite9a5903-2_amd64.deb ...\r\n",
      "Unpacking libx264-152:amd64 (2:0.152.2854+gite9a5903-2) ...\r\n"
     ]
    },
    {
     "name": "stdout",
     "output_type": "stream",
     "text": [
      "Selecting previously unselected package libx265-146:amd64.\r\n",
      "Preparing to unpack .../29-libx265-146_2.6-3_amd64.deb ...\r\n",
      "Unpacking libx265-146:amd64 (2.6-3) ...\r\n"
     ]
    },
    {
     "name": "stdout",
     "output_type": "stream",
     "text": [
      "Selecting previously unselected package libxvidcore4:amd64.\r\n",
      "Preparing to unpack .../30-libxvidcore4_2%3a1.3.5-1_amd64.deb ...\r\n",
      "Unpacking libxvidcore4:amd64 (2:1.3.5-1) ...\r\n"
     ]
    },
    {
     "name": "stdout",
     "output_type": "stream",
     "text": [
      "Selecting previously unselected package libzvbi-common.\r\n"
     ]
    },
    {
     "name": "stdout",
     "output_type": "stream",
     "text": [
      "Preparing to unpack .../31-libzvbi-common_0.2.35-13_all.deb ...\r\n",
      "Unpacking libzvbi-common (0.2.35-13) ...\r\n"
     ]
    },
    {
     "name": "stdout",
     "output_type": "stream",
     "text": [
      "Selecting previously unselected package libzvbi0:amd64.\r\n",
      "Preparing to unpack .../32-libzvbi0_0.2.35-13_amd64.deb ...\r\n",
      "Unpacking libzvbi0:amd64 (0.2.35-13) ...\r\n"
     ]
    },
    {
     "name": "stdout",
     "output_type": "stream",
     "text": [
      "Selecting previously unselected package libavcodec57:amd64.\r\n"
     ]
    },
    {
     "name": "stdout",
     "output_type": "stream",
     "text": [
      "Preparing to unpack .../33-libavcodec57_7%3a3.4.8-0ubuntu0.2_amd64.deb ...\r\n",
      "Unpacking libavcodec57:amd64 (7:3.4.8-0ubuntu0.2) ...\r\n"
     ]
    },
    {
     "name": "stdout",
     "output_type": "stream",
     "text": [
      "Selecting previously unselected package libraw1394-11:amd64.\r\n"
     ]
    },
    {
     "name": "stdout",
     "output_type": "stream",
     "text": [
      "Preparing to unpack .../34-libraw1394-11_2.1.2-1_amd64.deb ...\r\n",
      "Unpacking libraw1394-11:amd64 (2.1.2-1) ...\r\n"
     ]
    },
    {
     "name": "stdout",
     "output_type": "stream",
     "text": [
      "Selecting previously unselected package libavc1394-0:amd64.\r\n",
      "Preparing to unpack .../35-libavc1394-0_0.5.4-4build1_amd64.deb ...\r\n",
      "Unpacking libavc1394-0:amd64 (0.5.4-4build1) ...\r\n"
     ]
    },
    {
     "name": "stdout",
     "output_type": "stream",
     "text": [
      "Selecting previously unselected package libass9:amd64.\r\n",
      "Preparing to unpack .../36-libass9_1%3a0.14.0-1_amd64.deb ...\r\n",
      "Unpacking libass9:amd64 (1:0.14.0-1) ...\r\n"
     ]
    },
    {
     "name": "stdout",
     "output_type": "stream",
     "text": [
      "Selecting previously unselected package libbluray2:amd64.\r\n",
      "Preparing to unpack .../37-libbluray2_1%3a1.0.2-3_amd64.deb ...\r\n",
      "Unpacking libbluray2:amd64 (1:1.0.2-3) ...\r\n"
     ]
    },
    {
     "name": "stdout",
     "output_type": "stream",
     "text": [
      "Selecting previously unselected package libchromaprint1:amd64.\r\n",
      "Preparing to unpack .../38-libchromaprint1_1.4.3-1_amd64.deb ...\r\n",
      "Unpacking libchromaprint1:amd64 (1.4.3-1) ...\r\n"
     ]
    },
    {
     "name": "stdout",
     "output_type": "stream",
     "text": [
      "Selecting previously unselected package libgme0:amd64.\r\n",
      "Preparing to unpack .../39-libgme0_0.6.2-1_amd64.deb ...\r\n",
      "Unpacking libgme0:amd64 (0.6.2-1) ...\r\n"
     ]
    },
    {
     "name": "stdout",
     "output_type": "stream",
     "text": [
      "Selecting previously unselected package libmpg123-0:amd64.\r\n"
     ]
    },
    {
     "name": "stdout",
     "output_type": "stream",
     "text": [
      "Preparing to unpack .../40-libmpg123-0_1.25.10-1_amd64.deb ...\r\n",
      "Unpacking libmpg123-0:amd64 (1.25.10-1) ...\r\n"
     ]
    },
    {
     "name": "stdout",
     "output_type": "stream",
     "text": [
      "Selecting previously unselected package libvorbisfile3:amd64.\r\n",
      "Preparing to unpack .../41-libvorbisfile3_1.3.5-4.2_amd64.deb ...\r\n",
      "Unpacking libvorbisfile3:amd64 (1.3.5-4.2) ...\r\n"
     ]
    },
    {
     "name": "stdout",
     "output_type": "stream",
     "text": [
      "Selecting previously unselected package libopenmpt0:amd64.\r\n",
      "Preparing to unpack .../42-libopenmpt0_0.3.6-1_amd64.deb ...\r\n",
      "Unpacking libopenmpt0:amd64 (0.3.6-1) ...\r\n"
     ]
    },
    {
     "name": "stdout",
     "output_type": "stream",
     "text": [
      "Selecting previously unselected package libssh-gcrypt-4:amd64.\r\n"
     ]
    },
    {
     "name": "stdout",
     "output_type": "stream",
     "text": [
      "Preparing to unpack .../43-libssh-gcrypt-4_0.8.0~20170825.94fa1e38-1ubuntu0.7_amd64.deb ...\r\n",
      "Unpacking libssh-gcrypt-4:amd64 (0.8.0~20170825.94fa1e38-1ubuntu0.7) ...\r\n"
     ]
    },
    {
     "name": "stdout",
     "output_type": "stream",
     "text": [
      "Selecting previously unselected package libavformat57:amd64.\r\n",
      "Preparing to unpack .../44-libavformat57_7%3a3.4.8-0ubuntu0.2_amd64.deb ...\r\n",
      "Unpacking libavformat57:amd64 (7:3.4.8-0ubuntu0.2) ...\r\n"
     ]
    },
    {
     "name": "stdout",
     "output_type": "stream",
     "text": [
      "Selecting previously unselected package libavresample3:amd64.\r\n",
      "Preparing to unpack .../45-libavresample3_7%3a3.4.8-0ubuntu0.2_amd64.deb ...\r\n",
      "Unpacking libavresample3:amd64 (7:3.4.8-0ubuntu0.2) ...\r\n"
     ]
    },
    {
     "name": "stdout",
     "output_type": "stream",
     "text": [
      "Selecting previously unselected package libbs2b0:amd64.\r\n"
     ]
    },
    {
     "name": "stdout",
     "output_type": "stream",
     "text": [
      "Preparing to unpack .../46-libbs2b0_3.1.0+dfsg-2.2_amd64.deb ...\r\n",
      "Unpacking libbs2b0:amd64 (3.1.0+dfsg-2.2) ...\r\n"
     ]
    },
    {
     "name": "stdout",
     "output_type": "stream",
     "text": [
      "Selecting previously unselected package libflite1:amd64.\r\n",
      "Preparing to unpack .../47-libflite1_2.1-release-1_amd64.deb ...\r\n",
      "Unpacking libflite1:amd64 (2.1-release-1) ...\r\n"
     ]
    },
    {
     "name": "stdout",
     "output_type": "stream",
     "text": [
      "Selecting previously unselected package libmysofa0:amd64.\r\n"
     ]
    },
    {
     "name": "stdout",
     "output_type": "stream",
     "text": [
      "Preparing to unpack .../48-libmysofa0_0.6~dfsg0-3+deb10u1build1_amd64.deb ...\r\n",
      "Unpacking libmysofa0:amd64 (0.6~dfsg0-3+deb10u1build1) ...\r\n"
     ]
    },
    {
     "name": "stdout",
     "output_type": "stream",
     "text": [
      "Selecting previously unselected package libpostproc54:amd64.\r\n",
      "Preparing to unpack .../49-libpostproc54_7%3a3.4.8-0ubuntu0.2_amd64.deb ...\r\n",
      "Unpacking libpostproc54:amd64 (7:3.4.8-0ubuntu0.2) ...\r\n"
     ]
    },
    {
     "name": "stdout",
     "output_type": "stream",
     "text": [
      "Selecting previously unselected package libfftw3-double3:amd64.\r\n",
      "Preparing to unpack .../50-libfftw3-double3_3.3.7-1_amd64.deb ...\r\n",
      "Unpacking libfftw3-double3:amd64 (3.3.7-1) ...\r\n"
     ]
    },
    {
     "name": "stdout",
     "output_type": "stream",
     "text": [
      "Selecting previously unselected package libsamplerate0:amd64.\r\n"
     ]
    },
    {
     "name": "stdout",
     "output_type": "stream",
     "text": [
      "Preparing to unpack .../51-libsamplerate0_0.1.9-1_amd64.deb ...\r\n",
      "Unpacking libsamplerate0:amd64 (0.1.9-1) ...\r\n"
     ]
    },
    {
     "name": "stdout",
     "output_type": "stream",
     "text": [
      "Selecting previously unselected package librubberband2:amd64.\r\n",
      "Preparing to unpack .../52-librubberband2_1.8.1-7ubuntu2_amd64.deb ...\r\n",
      "Unpacking librubberband2:amd64 (1.8.1-7ubuntu2) ...\r\n"
     ]
    },
    {
     "name": "stdout",
     "output_type": "stream",
     "text": [
      "Selecting previously unselected package libswscale4:amd64.\r\n",
      "Preparing to unpack .../53-libswscale4_7%3a3.4.8-0ubuntu0.2_amd64.deb ...\r\n"
     ]
    },
    {
     "name": "stdout",
     "output_type": "stream",
     "text": [
      "Unpacking libswscale4:amd64 (7:3.4.8-0ubuntu0.2) ...\r\n"
     ]
    },
    {
     "name": "stdout",
     "output_type": "stream",
     "text": [
      "Selecting previously unselected package libnorm1:amd64.\r\n",
      "Preparing to unpack .../54-libnorm1_1.5r6+dfsg1-6_amd64.deb ...\r\n",
      "Unpacking libnorm1:amd64 (1.5r6+dfsg1-6) ...\r\n"
     ]
    },
    {
     "name": "stdout",
     "output_type": "stream",
     "text": [
      "Selecting previously unselected package libpgm-5.2-0:amd64.\r\n"
     ]
    },
    {
     "name": "stdout",
     "output_type": "stream",
     "text": [
      "Preparing to unpack .../55-libpgm-5.2-0_5.2.122~dfsg-2_amd64.deb ...\r\n",
      "Unpacking libpgm-5.2-0:amd64 (5.2.122~dfsg-2) ...\r\n"
     ]
    },
    {
     "name": "stdout",
     "output_type": "stream",
     "text": [
      "Selecting previously unselected package libsodium23:amd64.\r\n",
      "Preparing to unpack .../56-libsodium23_1.0.16-2_amd64.deb ...\r\n",
      "Unpacking libsodium23:amd64 (1.0.16-2) ...\r\n"
     ]
    },
    {
     "name": "stdout",
     "output_type": "stream",
     "text": [
      "Selecting previously unselected package libzmq5:amd64.\r\n"
     ]
    },
    {
     "name": "stdout",
     "output_type": "stream",
     "text": [
      "Preparing to unpack .../57-libzmq5_4.2.5-1ubuntu0.2_amd64.deb ...\r\n",
      "Unpacking libzmq5:amd64 (4.2.5-1ubuntu0.2) ...\r\n"
     ]
    },
    {
     "name": "stdout",
     "output_type": "stream",
     "text": [
      "Selecting previously unselected package libavfilter6:amd64.\r\n",
      "Preparing to unpack .../58-libavfilter6_7%3a3.4.8-0ubuntu0.2_amd64.deb ...\r\n",
      "Unpacking libavfilter6:amd64 (7:3.4.8-0ubuntu0.2) ...\r\n"
     ]
    },
    {
     "name": "stdout",
     "output_type": "stream",
     "text": [
      "Selecting previously unselected package libcaca0:amd64.\r\n",
      "Preparing to unpack .../59-libcaca0_0.99.beta19-2ubuntu0.18.04.1_amd64.deb ...\r\n",
      "Unpacking libcaca0:amd64 (0.99.beta19-2ubuntu0.18.04.1) ...\r\n"
     ]
    },
    {
     "name": "stdout",
     "output_type": "stream",
     "text": [
      "Selecting previously unselected package libcdio17:amd64.\r\n",
      "Preparing to unpack .../60-libcdio17_1.0.0-2ubuntu2_amd64.deb ...\r\n",
      "Unpacking libcdio17:amd64 (1.0.0-2ubuntu2) ...\r\n"
     ]
    },
    {
     "name": "stdout",
     "output_type": "stream",
     "text": [
      "Selecting previously unselected package libcdio-cdda2:amd64.\r\n",
      "Preparing to unpack .../61-libcdio-cdda2_10.2+0.94+2-2build1_amd64.deb ...\r\n",
      "Unpacking libcdio-cdda2:amd64 (10.2+0.94+2-2build1) ...\r\n"
     ]
    },
    {
     "name": "stdout",
     "output_type": "stream",
     "text": [
      "Selecting previously unselected package libcdio-paranoia2:amd64.\r\n",
      "Preparing to unpack .../62-libcdio-paranoia2_10.2+0.94+2-2build1_amd64.deb ...\r\n"
     ]
    },
    {
     "name": "stdout",
     "output_type": "stream",
     "text": [
      "Unpacking libcdio-paranoia2:amd64 (10.2+0.94+2-2build1) ...\r\n",
      "Selecting previously unselected package libdc1394-22:amd64.\r\n"
     ]
    },
    {
     "name": "stdout",
     "output_type": "stream",
     "text": [
      "Preparing to unpack .../63-libdc1394-22_2.2.5-1_amd64.deb ...\r\n",
      "Unpacking libdc1394-22:amd64 (2.2.5-1) ...\r\n"
     ]
    },
    {
     "name": "stdout",
     "output_type": "stream",
     "text": [
      "Selecting previously unselected package libiec61883-0:amd64.\r\n",
      "Preparing to unpack .../64-libiec61883-0_1.2.0-2_amd64.deb ...\r\n",
      "Unpacking libiec61883-0:amd64 (1.2.0-2) ...\r\n"
     ]
    },
    {
     "name": "stdout",
     "output_type": "stream",
     "text": [
      "Selecting previously unselected package libjack-jackd2-0:amd64.\r\n",
      "Preparing to unpack .../65-libjack-jackd2-0_1.9.12~dfsg-2_amd64.deb ...\r\n",
      "Unpacking libjack-jackd2-0:amd64 (1.9.12~dfsg-2) ...\r\n"
     ]
    },
    {
     "name": "stdout",
     "output_type": "stream",
     "text": [
      "Selecting previously unselected package libopenal-data.\r\n"
     ]
    },
    {
     "name": "stdout",
     "output_type": "stream",
     "text": [
      "Preparing to unpack .../66-libopenal-data_1%3a1.18.2-2_all.deb ...\r\n",
      "Unpacking libopenal-data (1:1.18.2-2) ...\r\n"
     ]
    },
    {
     "name": "stdout",
     "output_type": "stream",
     "text": [
      "Selecting previously unselected package libsndio6.1:amd64.\r\n",
      "Preparing to unpack .../67-libsndio6.1_1.1.0-3_amd64.deb ...\r\n",
      "Unpacking libsndio6.1:amd64 (1.1.0-3) ...\r\n"
     ]
    },
    {
     "name": "stdout",
     "output_type": "stream",
     "text": [
      "Selecting previously unselected package libopenal1:amd64.\r\n",
      "Preparing to unpack .../68-libopenal1_1%3a1.18.2-2_amd64.deb ...\r\n",
      "Unpacking libopenal1:amd64 (1:1.18.2-2) ...\r\n"
     ]
    },
    {
     "name": "stdout",
     "output_type": "stream",
     "text": [
      "Selecting previously unselected package libsdl2-2.0-0:amd64.\r\n",
      "Preparing to unpack .../69-libsdl2-2.0-0_2.0.8+dfsg1-1ubuntu1.18.04.4_amd64.deb ...\r\n",
      "Unpacking libsdl2-2.0-0:amd64 (2.0.8+dfsg1-1ubuntu1.18.04.4) ...\r\n"
     ]
    },
    {
     "name": "stdout",
     "output_type": "stream",
     "text": [
      "Selecting previously unselected package libavdevice57:amd64.\r\n",
      "Preparing to unpack .../70-libavdevice57_7%3a3.4.8-0ubuntu0.2_amd64.deb ...\r\n",
      "Unpacking libavdevice57:amd64 (7:3.4.8-0ubuntu0.2) ...\r\n"
     ]
    },
    {
     "name": "stdout",
     "output_type": "stream",
     "text": [
      "Selecting previously unselected package ffmpeg.\r\n",
      "Preparing to unpack .../71-ffmpeg_7%3a3.4.8-0ubuntu0.2_amd64.deb ...\r\n",
      "Unpacking ffmpeg (7:3.4.8-0ubuntu0.2) ...\r\n"
     ]
    },
    {
     "name": "stdout",
     "output_type": "stream",
     "text": [
      "Selecting previously unselected package libaacs0:amd64.\r\n",
      "Preparing to unpack .../72-libaacs0_0.9.0-1_amd64.deb ...\r\n",
      "Unpacking libaacs0:amd64 (0.9.0-1) ...\r\n"
     ]
    },
    {
     "name": "stdout",
     "output_type": "stream",
     "text": [
      "Selecting previously unselected package libbdplus0:amd64.\r\n",
      "Preparing to unpack .../73-libbdplus0_0.1.2-2_amd64.deb ...\r\n",
      "Unpacking libbdplus0:amd64 (0.1.2-2) ...\r\n"
     ]
    },
    {
     "name": "stdout",
     "output_type": "stream",
     "text": [
      "Selecting previously unselected package libllvm10:amd64.\r\n"
     ]
    },
    {
     "name": "stdout",
     "output_type": "stream",
     "text": [
      "Preparing to unpack .../74-libllvm10_1%3a10.0.0-4ubuntu1~18.04.2_amd64.deb ...\r\n",
      "Unpacking libllvm10:amd64 (1:10.0.0-4ubuntu1~18.04.2) ...\r\n"
     ]
    },
    {
     "name": "stdout",
     "output_type": "stream",
     "text": [
      "Selecting previously unselected package mesa-va-drivers:amd64.\r\n"
     ]
    },
    {
     "name": "stdout",
     "output_type": "stream",
     "text": [
      "Preparing to unpack .../75-mesa-va-drivers_20.0.8-0ubuntu1~18.04.1_amd64.deb ...\r\n",
      "Unpacking mesa-va-drivers:amd64 (20.0.8-0ubuntu1~18.04.1) ...\r\n"
     ]
    },
    {
     "name": "stdout",
     "output_type": "stream",
     "text": [
      "Selecting previously unselected package i965-va-driver:amd64.\r\n"
     ]
    },
    {
     "name": "stdout",
     "output_type": "stream",
     "text": [
      "Preparing to unpack .../76-i965-va-driver_2.1.0-0ubuntu1_amd64.deb ...\r\n",
      "Unpacking i965-va-driver:amd64 (2.1.0-0ubuntu1) ...\r\n"
     ]
    },
    {
     "name": "stdout",
     "output_type": "stream",
     "text": [
      "Selecting previously unselected package va-driver-all:amd64.\r\n",
      "Preparing to unpack .../77-va-driver-all_2.1.0-3_amd64.deb ...\r\n",
      "Unpacking va-driver-all:amd64 (2.1.0-3) ...\r\n"
     ]
    },
    {
     "name": "stdout",
     "output_type": "stream",
     "text": [
      "Selecting previously unselected package xvfb.\r\n",
      "Preparing to unpack .../78-xvfb_2%3a1.19.6-1ubuntu4.8_amd64.deb ...\r\n",
      "Unpacking xvfb (2:1.19.6-1ubuntu4.8) ...\r\n"
     ]
    },
    {
     "name": "stdout",
     "output_type": "stream",
     "text": [
      "Setting up libvorbisfile3:amd64 (1.3.5-4.2) ...\r\n",
      "Setting up libpgm-5.2-0:amd64 (5.2.122~dfsg-2) ...\r\n",
      "Setting up libtwolame0:amd64 (0.3.13-3) ...\r\n"
     ]
    },
    {
     "name": "stdout",
     "output_type": "stream",
     "text": [
      "Setting up libraw1394-11:amd64 (2.1.2-1) ...\r\n",
      "Setting up libx264-152:amd64 (2:0.152.2854+gite9a5903-2) ...\r\n",
      "Setting up libopenjp2-7:amd64 (2.3.0-2build0.18.04.1) ...\r\n",
      "Setting up libllvm10:amd64 (1:10.0.0-4ubuntu1~18.04.2) ...\r\n"
     ]
    },
    {
     "name": "stdout",
     "output_type": "stream",
     "text": [
      "Setting up libwavpack1:amd64 (5.1.0-2ubuntu1.4) ...\r\n",
      "Setting up xvfb (2:1.19.6-1ubuntu4.8) ...\r\n",
      "Setting up libaacs0:amd64 (0.9.0-1) ...\r\n",
      "Setting up libnuma1:amd64 (2.0.11-2.1ubuntu0.1) ...\r\n",
      "Setting up libflite1:amd64 (2.1-release-1) ...\r\n"
     ]
    },
    {
     "name": "stdout",
     "output_type": "stream",
     "text": [
      "Setting up libsoxr0:amd64 (0.1.2-3) ...\r\n",
      "Setting up libssh-gcrypt-4:amd64 (0.8.0~20170825.94fa1e38-1ubuntu0.7) ...\r\n",
      "Setting up libxss1:amd64 (1:1.2.2-1) ...\r\n",
      "Setting up libass9:amd64 (1:0.14.0-1) ...\r\n"
     ]
    },
    {
     "name": "stdout",
     "output_type": "stream",
     "text": [
      "Setting up libbluray2:amd64 (1:1.0.2-3) ...\r\n",
      "Setting up libdc1394-22:amd64 (2.2.5-1) ...\r\n",
      "Setting up libshine3:amd64 (3.1.1-1) ...\r\n",
      "Setting up libva2:amd64 (2.1.0-3) ...\r\n",
      "Setting up libiec61883-0:amd64 (1.2.0-2) ...\r\n"
     ]
    },
    {
     "name": "stdout",
     "output_type": "stream",
     "text": [
      "Setting up libspeex1:amd64 (1.2~rc1.2-1ubuntu2) ...\r\n",
      "Setting up libfftw3-double3:amd64 (3.3.7-1) ...\r\n",
      "Setting up libxvidcore4:amd64 (2:1.3.5-1) ...\r\n",
      "Setting up libopus0:amd64 (1.1.2-1ubuntu1) ...\r\n",
      "Setting up libx265-146:amd64 (2.6-3) ...\r\n"
     ]
    },
    {
     "name": "stdout",
     "output_type": "stream",
     "text": [
      "Setting up libopenal-data (1:1.18.2-2) ...\r\n",
      "Setting up libdrm-common (2.4.101-2~18.04.1) ...\r\n",
      "Setting up libbs2b0:amd64 (3.1.0+dfsg-2.2) ...\r\n",
      "Setting up libnorm1:amd64 (1.5r6+dfsg1-6) ...\r\n",
      "Setting up libsodium23:amd64 (1.0.16-2) ...\r\n"
     ]
    },
    {
     "name": "stdout",
     "output_type": "stream",
     "text": [
      "Setting up libmp3lame0:amd64 (3.100-2) ...\r\n",
      "Setting up libcrystalhd3:amd64 (1:0.0~git20110715.fdd2f19-12) ...\r\n",
      "Setting up libwebpmux3:amd64 (0.6.1-2) ...\r\n",
      "Setting up libsnappy1v5:amd64 (1.1.7-1) ...\r\n",
      "Setting up libavc1394-0:amd64 (0.5.4-4build1) ...\r\n"
     ]
    },
    {
     "name": "stdout",
     "output_type": "stream",
     "text": [
      "Setting up libzvbi-common (0.2.35-13) ...\r\n",
      "Setting up libvpx5:amd64 (1.7.0-3ubuntu0.18.04.1) ...\r\n",
      "Setting up libgme0:amd64 (0.6.2-1) ...\r\n",
      "Setting up libbdplus0:amd64 (0.1.2-2) ...\r\n",
      "Setting up libzvbi0:amd64 (0.2.35-13) ...\r\n"
     ]
    },
    {
     "name": "stdout",
     "output_type": "stream",
     "text": [
      "Setting up libcaca0:amd64 (0.99.beta19-2ubuntu0.18.04.1) ...\r\n",
      "Setting up libsamplerate0:amd64 (0.1.9-1) ...\r\n",
      "Setting up libsndio6.1:amd64 (1.1.0-3) ...\r\n",
      "Setting up libtheora0:amd64 (1.1.1+dfsg.1-14) ...\r\n",
      "Setting up libmpg123-0:amd64 (1.25.10-1) ...\r\n"
     ]
    },
    {
     "name": "stdout",
     "output_type": "stream",
     "text": [
      "Setting up libgsm1:amd64 (1.0.13-4build1) ...\r\n",
      "Setting up libmysofa0:amd64 (0.6~dfsg0-3+deb10u1build1) ...\r\n",
      "Setting up libcdio17:amd64 (1.0.0-2ubuntu2) ...\r\n",
      "Setting up libzmq5:amd64 (4.2.5-1ubuntu0.2) ...\r\n",
      "Setting up libopenmpt0:amd64 (0.3.6-1) ...\r\n"
     ]
    },
    {
     "name": "stdout",
     "output_type": "stream",
     "text": [
      "Setting up libcdio-cdda2:amd64 (10.2+0.94+2-2build1) ...\r\n",
      "Setting up libdrm2:amd64 (2.4.101-2~18.04.1) ...\r\n",
      "Setting up libdrm-intel1:amd64 (2.4.101-2~18.04.1) ...\r\n",
      "Setting up librubberband2:amd64 (1.8.1-7ubuntu2) ...\r\n",
      "Setting up libsdl2-2.0-0:amd64 (2.0.8+dfsg1-1ubuntu1.18.04.4) ...\r\n"
     ]
    },
    {
     "name": "stdout",
     "output_type": "stream",
     "text": [
      "Setting up libcdio-paranoia2:amd64 (10.2+0.94+2-2build1) ...\r\n",
      "Setting up libva-drm2:amd64 (2.1.0-3) ...\r\n",
      "Setting up libjack-jackd2-0:amd64 (1.9.12~dfsg-2) ...\r\n",
      "Setting up libopenal1:amd64 (1:1.18.2-2) ...\r\n",
      "Setting up libdrm-radeon1:amd64 (2.4.101-2~18.04.1) ...\r\n"
     ]
    },
    {
     "name": "stdout",
     "output_type": "stream",
     "text": [
      "Setting up libva-x11-2:amd64 (2.1.0-3) ...\r\n",
      "Setting up libdrm-nouveau2:amd64 (2.4.101-2~18.04.1) ...\r\n",
      "Setting up libavutil55:amd64 (7:3.4.8-0ubuntu0.2) ...\r\n",
      "Setting up libdrm-amdgpu1:amd64 (2.4.101-2~18.04.1) ...\r\n",
      "Setting up libdrm-dev:amd64 (2.4.101-2~18.04.1) ...\r\n"
     ]
    },
    {
     "name": "stdout",
     "output_type": "stream",
     "text": [
      "Setting up libswresample2:amd64 (7:3.4.8-0ubuntu0.2) ...\r\n",
      "Setting up i965-va-driver:amd64 (2.1.0-0ubuntu1) ...\r\n",
      "Setting up libswscale4:amd64 (7:3.4.8-0ubuntu0.2) ...\r\n",
      "Setting up mesa-va-drivers:amd64 (20.0.8-0ubuntu1~18.04.1) ...\r\n",
      "Setting up libpostproc54:amd64 (7:3.4.8-0ubuntu0.2) ...\r\n"
     ]
    },
    {
     "name": "stdout",
     "output_type": "stream",
     "text": [
      "Setting up libavresample3:amd64 (7:3.4.8-0ubuntu0.2) ...\r\n",
      "Setting up libavcodec57:amd64 (7:3.4.8-0ubuntu0.2) ...\r\n",
      "Setting up va-driver-all:amd64 (2.1.0-3) ...\r\n",
      "Setting up libchromaprint1:amd64 (1.4.3-1) ...\r\n",
      "Setting up libavformat57:amd64 (7:3.4.8-0ubuntu0.2) ...\r\n"
     ]
    },
    {
     "name": "stdout",
     "output_type": "stream",
     "text": [
      "Setting up libavfilter6:amd64 (7:3.4.8-0ubuntu0.2) ...\r\n",
      "Setting up libavdevice57:amd64 (7:3.4.8-0ubuntu0.2) ...\r\n",
      "Setting up ffmpeg (7:3.4.8-0ubuntu0.2) ...\r\n",
      "Processing triggers for libc-bin (2.27-3ubuntu1.2) ...\r\n"
     ]
    },
    {
     "name": "stdout",
     "output_type": "stream",
     "text": [
      "Processing triggers for man-db (2.8.3-2ubuntu0.1) ...\r\n"
     ]
    }
   ],
   "source": [
    "!sudo apt-get install -y xvfb ffmpeg\n",
    "!pip install -q gym\n",
    "!pip install -q 'imageio==2.4.0'\n",
    "!pip install -q PILLOW\n",
    "!pip install -q pyglet\n",
    "!pip install -q pyvirtualdisplay\n",
    "!pip install -q tf-agents"
   ]
  },
  {
   "cell_type": "code",
   "execution_count": 1,
   "metadata": {
    "colab": {},
    "colab_type": "code",
    "execution": {
     "iopub.execute_input": "2020-12-08T12:11:42.062879Z",
     "iopub.status.busy": "2020-12-08T12:11:42.062177Z",
     "iopub.status.idle": "2020-12-08T12:11:49.818372Z",
     "shell.execute_reply": "2020-12-08T12:11:49.817777Z"
    },
    "id": "sMitx5qSgJk1"
   },
   "outputs": [
    {
     "name": "stderr",
     "output_type": "stream",
     "text": [
      "WARNING:root:Argument blacklist is deprecated. Please use denylist.\n",
      "WARNING:root:Argument blacklist is deprecated. Please use denylist.\n"
     ]
    }
   ],
   "source": [
    "from __future__ import absolute_import, division, print_function\n",
    "\n",
    "import base64\n",
    "import imageio\n",
    "import IPython\n",
    "import matplotlib\n",
    "import matplotlib.pyplot as plt\n",
    "import numpy as np\n",
    "import PIL.Image\n",
    "import pyvirtualdisplay\n",
    "\n",
    "import tensorflow as tf\n",
    "\n",
    "from tf_agents.agents.dqn import dqn_agent\n",
    "from tf_agents.drivers import dynamic_step_driver\n",
    "from tf_agents.environments import suite_gym\n",
    "from tf_agents.environments import tf_py_environment\n",
    "from tf_agents.eval import metric_utils\n",
    "from tf_agents.metrics import tf_metrics\n",
    "from tf_agents.networks import q_network\n",
    "from tf_agents.policies import random_tf_policy\n",
    "from tf_agents.replay_buffers import tf_uniform_replay_buffer\n",
    "from tf_agents.trajectories import trajectory\n",
    "from tf_agents.utils import common"
   ]
  },
  {
   "cell_type": "code",
   "execution_count": 2,
   "metadata": {
    "colab": {},
    "colab_type": "code",
    "execution": {
     "iopub.execute_input": "2020-12-08T12:11:49.827352Z",
     "iopub.status.busy": "2020-12-08T12:11:49.822498Z",
     "iopub.status.idle": "2020-12-08T12:11:50.549990Z",
     "shell.execute_reply": "2020-12-08T12:11:50.550454Z"
    },
    "id": "J6HsdS5GbSjd"
   },
   "outputs": [],
   "source": [
    "tf.compat.v1.enable_v2_behavior()\n",
    "\n",
    "# Set up a virtual display for rendering OpenAI gym environments.\n",
    "display = pyvirtualdisplay.Display(visible=0, size=(1400, 900)).start()"
   ]
  },
  {
   "cell_type": "code",
   "execution_count": 3,
   "metadata": {
    "colab": {},
    "colab_type": "code",
    "execution": {
     "iopub.execute_input": "2020-12-08T12:11:50.557049Z",
     "iopub.status.busy": "2020-12-08T12:11:50.556343Z",
     "iopub.status.idle": "2020-12-08T12:11:50.559699Z",
     "shell.execute_reply": "2020-12-08T12:11:50.560134Z"
    },
    "id": "NspmzG4nP3b9"
   },
   "outputs": [
    {
     "data": {
      "text/plain": "'2.3.1'"
     },
     "execution_count": 3,
     "metadata": {},
     "output_type": "execute_result"
    }
   ],
   "source": [
    "tf.version.VERSION"
   ]
  },
  {
   "cell_type": "markdown",
   "metadata": {
    "colab_type": "text",
    "id": "LmC0NDhdLIKY"
   },
   "source": [
    "## Hyperparameters"
   ]
  },
  {
   "cell_type": "code",
   "execution_count": 4,
   "metadata": {
    "colab": {},
    "colab_type": "code",
    "execution": {
     "iopub.execute_input": "2020-12-08T12:11:50.564883Z",
     "iopub.status.busy": "2020-12-08T12:11:50.564207Z",
     "iopub.status.idle": "2020-12-08T12:11:50.566774Z",
     "shell.execute_reply": "2020-12-08T12:11:50.566181Z"
    },
    "id": "HC1kNrOsLSIZ"
   },
   "outputs": [],
   "source": [
    "num_iterations = 20000 # @param {type:\"integer\"}\n",
    "\n",
    "initial_collect_steps = 100  # @param {type:\"integer\"} \n",
    "collect_steps_per_iteration = 1  # @param {type:\"integer\"}\n",
    "replay_buffer_max_length = 100000  # @param {type:\"integer\"}\n",
    "\n",
    "batch_size = 64  # @param {type:\"integer\"}\n",
    "learning_rate = 1e-3  # @param {type:\"number\"}\n",
    "log_interval = 200  # @param {type:\"integer\"}\n",
    "\n",
    "num_eval_episodes = 10  # @param {type:\"integer\"}\n",
    "eval_interval = 1000  # @param {type:\"integer\"}"
   ]
  },
  {
   "cell_type": "markdown",
   "metadata": {
    "colab_type": "text",
    "id": "VMsJC3DEgI0x"
   },
   "source": [
    "## Environment\n",
    "\n",
    "In Reinforcement Learning (RL), an environment represents the task or problem to be solved. Standard environments can be created in TF-Agents using `tf_agents.environments` suites. TF-Agents has suites for loading environments from sources such as the OpenAI Gym, Atari, and DM Control.\n",
    "\n",
    "Load the CartPole environment from the OpenAI Gym suite. "
   ]
  },
  {
   "cell_type": "code",
   "execution_count": 5,
   "metadata": {
    "colab": {},
    "colab_type": "code",
    "execution": {
     "iopub.execute_input": "2020-12-08T12:11:50.571211Z",
     "iopub.status.busy": "2020-12-08T12:11:50.570468Z",
     "iopub.status.idle": "2020-12-08T12:11:50.579579Z",
     "shell.execute_reply": "2020-12-08T12:11:50.579031Z"
    },
    "id": "pYEz-S9gEv2-"
   },
   "outputs": [],
   "source": [
    "env_name = 'CartPole-v0'\n",
    "env = suite_gym.load(env_name)"
   ]
  },
  {
   "cell_type": "markdown",
   "metadata": {
    "colab_type": "text",
    "id": "IIHYVBkuvPNw"
   },
   "source": [
    "You can render this environment to see how it looks. A free-swinging pole is attached to a cart.  The goal is to move the cart right or left in order to keep the pole pointing up."
   ]
  },
  {
   "cell_type": "code",
   "execution_count": 6,
   "metadata": {
    "colab": {},
    "colab_type": "code",
    "execution": {
     "iopub.execute_input": "2020-12-08T12:11:50.585990Z",
     "iopub.status.busy": "2020-12-08T12:11:50.585323Z",
     "iopub.status.idle": "2020-12-08T12:11:51.129933Z",
     "shell.execute_reply": "2020-12-08T12:11:51.129402Z"
    },
    "id": "RlO7WIQHu_7D"
   },
   "outputs": [
    {
     "data": {
      "text/plain": "<PIL.Image.Image image mode=RGB size=600x400 at 0x7FAEC1A897F0>",
      "image/png": "[encoded data removed]"
     },
     "execution_count": 6,
     "metadata": {},
     "output_type": "execute_result"
    }
   ],
   "source": [
    "#@test {\"skip\": true}\n",
    "env.reset()\n",
    "PIL.Image.fromarray(env.render())"
   ]
  },
  {
   "cell_type": "markdown",
   "metadata": {
    "colab_type": "text",
    "id": "B9_lskPOey18"
   },
   "source": [
    "The `environment.step` method takes an `action` in the environment and returns a `TimeStep` tuple containing the next observation of the environment and the reward for the action.\n",
    "\n",
    "The `time_step_spec()` method returns the specification for the `TimeStep` tuple. Its `observation` attribute shows the shape of observations, the data types, and the ranges of allowed values. The `reward` attribute shows the same details for the reward.\n"
   ]
  },
  {
   "cell_type": "code",
   "execution_count": 7,
   "metadata": {
    "colab": {},
    "colab_type": "code",
    "execution": {
     "iopub.execute_input": "2020-12-08T12:11:51.138636Z",
     "iopub.status.busy": "2020-12-08T12:11:51.137968Z",
     "iopub.status.idle": "2020-12-08T12:11:51.140762Z",
     "shell.execute_reply": "2020-12-08T12:11:51.140255Z"
    },
    "id": "exDv57iHfwQV"
   },
   "outputs": [
    {
     "name": "stdout",
     "output_type": "stream",
     "text": [
      "Observation Spec:\n",
      "BoundedArraySpec(shape=(4,), dtype=dtype('float32'), name='observation', minimum=[-4.8000002e+00 -3.4028235e+38 -4.1887903e-01 -3.4028235e+38], maximum=[4.8000002e+00 3.4028235e+38 4.1887903e-01 3.4028235e+38])\n"
     ]
    }
   ],
   "source": [
    "print('Observation Spec:')\n",
    "print(env.time_step_spec().observation)"
   ]
  },
  {
   "cell_type": "code",
   "execution_count": 8,
   "metadata": {
    "colab": {},
    "colab_type": "code",
    "execution": {
     "iopub.execute_input": "2020-12-08T12:11:51.145079Z",
     "iopub.status.busy": "2020-12-08T12:11:51.144437Z",
     "iopub.status.idle": "2020-12-08T12:11:51.146677Z",
     "shell.execute_reply": "2020-12-08T12:11:51.147135Z"
    },
    "id": "UxiSyCbBUQPi"
   },
   "outputs": [
    {
     "name": "stdout",
     "output_type": "stream",
     "text": [
      "Reward Spec:\n",
      "ArraySpec(shape=(), dtype=dtype('float32'), name='reward')\n"
     ]
    }
   ],
   "source": [
    "print('Reward Spec:')\n",
    "print(env.time_step_spec().reward)"
   ]
  },
  {
   "cell_type": "markdown",
   "metadata": {
    "colab_type": "text",
    "id": "b_lHcIcqUaqB"
   },
   "source": [
    "The `action_spec()` method returns the shape, data types, and allowed values of valid actions."
   ]
  },
  {
   "cell_type": "code",
   "execution_count": 9,
   "metadata": {
    "colab": {},
    "colab_type": "code",
    "execution": {
     "iopub.execute_input": "2020-12-08T12:11:51.151094Z",
     "iopub.status.busy": "2020-12-08T12:11:51.150420Z",
     "iopub.status.idle": "2020-12-08T12:11:51.153162Z",
     "shell.execute_reply": "2020-12-08T12:11:51.152658Z"
    },
    "id": "bttJ4uxZUQBr"
   },
   "outputs": [
    {
     "name": "stdout",
     "output_type": "stream",
     "text": [
      "Action Spec:\n",
      "BoundedArraySpec(shape=(), dtype=dtype('int64'), name='action', minimum=0, maximum=1)\n"
     ]
    }
   ],
   "source": [
    "print('Action Spec:')\n",
    "print(env.action_spec())"
   ]
  },
  {
   "cell_type": "markdown",
   "metadata": {
    "colab_type": "text",
    "id": "eJCgJnx3g0yY"
   },
   "source": [
    "In the Cartpole environment:\n",
    "\n",
    "-   `observation` is an array of 4 floats: \n",
    "    -   the position and velocity of the cart\n",
    "    -   the angular position and velocity of the pole \n",
    "-   `reward` is a scalar float value\n",
    "-   `action` is a scalar integer with only two possible values:\n",
    "    -   `0` — \"move left\"\n",
    "    -   `1` — \"move right\"\n"
   ]
  },
  {
   "cell_type": "code",
   "execution_count": 10,
   "metadata": {
    "colab": {},
    "colab_type": "code",
    "execution": {
     "iopub.execute_input": "2020-12-08T12:11:51.159587Z",
     "iopub.status.busy": "2020-12-08T12:11:51.158895Z",
     "iopub.status.idle": "2020-12-08T12:11:51.161873Z",
     "shell.execute_reply": "2020-12-08T12:11:51.161355Z"
    },
    "id": "V2UGR5t_iZX-"
   },
   "outputs": [
    {
     "name": "stdout",
     "output_type": "stream",
     "text": [
      "Time step:\n",
      "TimeStep(step_type=array(0, dtype=int32), reward=array(0., dtype=float32), discount=array(1., dtype=float32), observation=array([-0.01409908,  0.02984941, -0.00575762, -0.04710222], dtype=float32))\n",
      "Next time step:\n",
      "TimeStep(step_type=array(1, dtype=int32), reward=array(1., dtype=float32), discount=array(1., dtype=float32), observation=array([-0.01350209,  0.22505344, -0.00669967, -0.34159616], dtype=float32))\n"
     ]
    }
   ],
   "source": [
    "time_step = env.reset()\n",
    "print('Time step:')\n",
    "print(time_step)\n",
    "\n",
    "action = np.array(1, dtype=np.int32)\n",
    "\n",
    "next_time_step = env.step(action)\n",
    "print('Next time step:')\n",
    "print(next_time_step)"
   ]
  },
  {
   "cell_type": "markdown",
   "metadata": {
    "colab_type": "text",
    "id": "4JSc9GviWUBK"
   },
   "source": [
    "Usually two environments are instantiated: one for training and one for evaluation. "
   ]
  },
  {
   "cell_type": "code",
   "execution_count": 11,
   "metadata": {
    "colab": {},
    "colab_type": "code",
    "execution": {
     "iopub.execute_input": "2020-12-08T12:11:51.168093Z",
     "iopub.status.busy": "2020-12-08T12:11:51.167456Z",
     "iopub.status.idle": "2020-12-08T12:11:51.169327Z",
     "shell.execute_reply": "2020-12-08T12:11:51.169743Z"
    },
    "id": "N7brXNIGWXjC"
   },
   "outputs": [],
   "source": [
    "train_py_env = suite_gym.load(env_name)\n",
    "eval_py_env = suite_gym.load(env_name)"
   ]
  },
  {
   "cell_type": "markdown",
   "metadata": {
    "colab_type": "text",
    "id": "zuUqXAVmecTU"
   },
   "source": [
    "The Cartpole environment, like most environments, is written in pure Python. This is converted to TensorFlow using the `TFPyEnvironment` wrapper.\n",
    "\n",
    "The original environment's API uses Numpy arrays. The `TFPyEnvironment` converts these to `Tensors` to make it compatible with Tensorflow agents and policies.\n"
   ]
  },
  {
   "cell_type": "code",
   "execution_count": 36,
   "metadata": {
    "colab": {},
    "colab_type": "code",
    "execution": {
     "iopub.execute_input": "2020-12-08T12:11:51.174876Z",
     "iopub.status.busy": "2020-12-08T12:11:51.174201Z",
     "iopub.status.idle": "2020-12-08T12:11:51.181805Z",
     "shell.execute_reply": "2020-12-08T12:11:51.181215Z"
    },
    "id": "Xp-Y4mD6eDhF"
   },
   "outputs": [],
   "source": [
    "train_env = tf_py_environment.TFPyEnvironment(train_py_env)\n",
    "eval_env = tf_py_environment.TFPyEnvironment(eval_py_env)"
   ]
  },
  {
   "cell_type": "markdown",
   "metadata": {
    "colab_type": "text",
    "id": "E9lW_OZYFR8A"
   },
   "source": [
    "## Agent\n",
    "\n",
    "The algorithm used to solve an RL problem is represented by an `Agent`. TF-Agents provides standard implementations of a variety of `Agents`, including:\n",
    "\n",
    "-   [DQN](https://storage.googleapis.com/deepmind-media/dqn/DQNNaturePaper.pdf) (used in this tutorial)\n",
    "-   [REINFORCE](https://www-anw.cs.umass.edu/~barto/courses/cs687/williams92simple.pdf)\n",
    "-   [DDPG](https://arxiv.org/pdf/1509.02971.pdf)\n",
    "-   [TD3](https://arxiv.org/pdf/1802.09477.pdf)\n",
    "-   [PPO](https://arxiv.org/abs/1707.06347)\n",
    "-   [SAC](https://arxiv.org/abs/1801.01290).\n",
    "\n",
    "The DQN agent can be used in any environment which has a discrete action space.\n",
    "\n",
    "At the heart of a DQN Agent is a `QNetwork`, a neural network model that can learn to predict `QValues` (expected returns) for all actions, given an observation from the environment.\n",
    "\n",
    "Use `tf_agents.networks.q_network` to create a `QNetwork`, passing in the `observation_spec`, `action_spec`, and a tuple describing the number and size of the model's hidden layers.\n"
   ]
  },
  {
   "cell_type": "code",
   "execution_count": 13,
   "metadata": {
    "colab": {},
    "colab_type": "code",
    "execution": {
     "iopub.execute_input": "2020-12-08T12:11:51.190732Z",
     "iopub.status.busy": "2020-12-08T12:11:51.185810Z",
     "iopub.status.idle": "2020-12-08T12:11:51.210447Z",
     "shell.execute_reply": "2020-12-08T12:11:51.209831Z"
    },
    "id": "TgkdEPg_muzV"
   },
   "outputs": [],
   "source": [
    "fc_layer_params = (100,)\n",
    "\n",
    "q_net = q_network.QNetwork(\n",
    "    train_env.observation_spec(),\n",
    "    train_env.action_spec(),\n",
    "    fc_layer_params=fc_layer_params)"
   ]
  },
  {
   "cell_type": "markdown",
   "metadata": {
    "colab_type": "text",
    "id": "z62u55hSmviJ"
   },
   "source": [
    "Now use `tf_agents.agents.dqn.dqn_agent` to instantiate a `DqnAgent`. In addition to the `time_step_spec`, `action_spec` and the QNetwork, the agent constructor also requires an optimizer (in this case, `AdamOptimizer`), a loss function, and an integer step counter."
   ]
  },
  {
   "cell_type": "code",
   "execution_count": 14,
   "metadata": {
    "colab": {},
    "colab_type": "code",
    "execution": {
     "iopub.execute_input": "2020-12-08T12:11:59.520367Z",
     "iopub.status.busy": "2020-12-08T12:11:58.863815Z",
     "iopub.status.idle": "2020-12-08T12:12:00.111813Z",
     "shell.execute_reply": "2020-12-08T12:12:00.112305Z"
    },
    "id": "jbY4yrjTEyc9"
   },
   "outputs": [],
   "source": [
    "optimizer = tf.compat.v1.train.AdamOptimizer(learning_rate=learning_rate)\n",
    "\n",
    "train_step_counter = tf.Variable(0)\n",
    "\n",
    "agent = dqn_agent.DqnAgent(\n",
    "    train_env.time_step_spec(),\n",
    "    train_env.action_spec(),\n",
    "    q_network=q_net,\n",
    "    optimizer=optimizer,\n",
    "    td_errors_loss_fn=common.element_wise_squared_loss,\n",
    "    train_step_counter=train_step_counter)\n",
    "\n",
    "agent.initialize()"
   ]
  },
  {
   "cell_type": "markdown",
   "metadata": {
    "colab_type": "text",
    "id": "I0KLrEPwkn5x"
   },
   "source": [
    "## Policies\n",
    "\n",
    "A policy defines the way an agent acts in an environment. Typically, the goal of reinforcement learning is to train the underlying model until the policy produces the desired outcome.\n",
    "\n",
    "In this tutorial:\n",
    "\n",
    "-   The desired outcome is keeping the pole balanced upright over the cart.\n",
    "-   The policy returns an action (left or right) for each `time_step` observation.\n",
    "\n",
    "Agents contain two policies: \n",
    "\n",
    "-   `agent.policy` — The main policy that is used for evaluation and deployment.\n",
    "-   `agent.collect_policy` — A second policy that is used for data collection.\n"
   ]
  },
  {
   "cell_type": "code",
   "execution_count": 15,
   "metadata": {
    "colab": {},
    "colab_type": "code",
    "execution": {
     "iopub.execute_input": "2020-12-08T12:12:00.116972Z",
     "iopub.status.busy": "2020-12-08T12:12:00.116297Z",
     "iopub.status.idle": "2020-12-08T12:12:00.118009Z",
     "shell.execute_reply": "2020-12-08T12:12:00.118421Z"
    },
    "id": "BwY7StuMkuV4"
   },
   "outputs": [],
   "source": [
    "eval_policy = agent.policy\n",
    "collect_policy = agent.collect_policy"
   ]
  },
  {
   "cell_type": "markdown",
   "metadata": {
    "colab_type": "text",
    "id": "2Qs1Fl3dV0ae"
   },
   "source": [
    "Policies can be created independently of agents. For example, use `tf_agents.policies.random_tf_policy` to create a policy which will randomly select an action for each `time_step`."
   ]
  },
  {
   "cell_type": "code",
   "execution_count": 16,
   "metadata": {
    "colab": {},
    "colab_type": "code",
    "execution": {
     "iopub.execute_input": "2020-12-08T12:12:00.122877Z",
     "iopub.status.busy": "2020-12-08T12:12:00.122257Z",
     "iopub.status.idle": "2020-12-08T12:12:00.124522Z",
     "shell.execute_reply": "2020-12-08T12:12:00.124061Z"
    },
    "id": "HE37-UCIrE69"
   },
   "outputs": [],
   "source": [
    "random_policy = random_tf_policy.RandomTFPolicy(train_env.time_step_spec(),\n",
    "                                                train_env.action_spec())"
   ]
  },
  {
   "cell_type": "markdown",
   "metadata": {
    "colab_type": "text",
    "id": "dOlnlRRsUbxP"
   },
   "source": [
    "To get an action from a policy, call the `policy.action(time_step)` method. The `time_step` contains the observation from the environment. This method returns a `PolicyStep`, which is a named tuple with three components:\n",
    "\n",
    "-   `action` — the action to be taken (in this case, `0` or `1`)\n",
    "-   `state` — used for stateful (that is, RNN-based) policies\n",
    "-   `info` — auxiliary data, such as log probabilities of actions"
   ]
  },
  {
   "cell_type": "code",
   "execution_count": 17,
   "metadata": {
    "colab": {},
    "colab_type": "code",
    "execution": {
     "iopub.execute_input": "2020-12-08T12:12:00.130790Z",
     "iopub.status.busy": "2020-12-08T12:12:00.130119Z",
     "iopub.status.idle": "2020-12-08T12:12:00.133121Z",
     "shell.execute_reply": "2020-12-08T12:12:00.133527Z"
    },
    "id": "5gCcpXswVAxk"
   },
   "outputs": [],
   "source": [
    "example_environment = tf_py_environment.TFPyEnvironment(\n",
    "    suite_gym.load('CartPole-v0'))"
   ]
  },
  {
   "cell_type": "code",
   "execution_count": 18,
   "metadata": {
    "colab": {},
    "colab_type": "code",
    "execution": {
     "iopub.execute_input": "2020-12-08T12:12:00.137814Z",
     "iopub.status.busy": "2020-12-08T12:12:00.137144Z",
     "iopub.status.idle": "2020-12-08T12:12:00.139640Z",
     "shell.execute_reply": "2020-12-08T12:12:00.140057Z"
    },
    "id": "D4DHZtq3Ndis"
   },
   "outputs": [],
   "source": [
    "time_step = example_environment.reset()"
   ]
  },
  {
   "cell_type": "code",
   "execution_count": 19,
   "metadata": {
    "colab": {},
    "colab_type": "code",
    "execution": {
     "iopub.execute_input": "2020-12-08T12:12:00.143911Z",
     "iopub.status.busy": "2020-12-08T12:12:00.143243Z",
     "iopub.status.idle": "2020-12-08T12:12:00.149609Z",
     "shell.execute_reply": "2020-12-08T12:12:00.150050Z"
    },
    "id": "PRFqAUzpNaAW"
   },
   "outputs": [
    {
     "data": {
      "text/plain": "PolicyStep(action=<tf.Tensor: shape=(1,), dtype=int64, numpy=array([0])>, state=(), info=())"
     },
     "execution_count": 19,
     "metadata": {},
     "output_type": "execute_result"
    }
   ],
   "source": [
    "random_policy.action(time_step)"
   ]
  },
  {
   "cell_type": "markdown",
   "metadata": {
    "colab_type": "text",
    "id": "94rCXQtbUbXv"
   },
   "source": [
    "## Metrics and Evaluation\n",
    "\n",
    "The most common metric used to evaluate a policy is the average return. The return is the sum of rewards obtained while running a policy in an environment for an episode. Several episodes are run, creating an average return.\n",
    "\n",
    "The following function computes the average return of a policy, given the policy, environment, and a number of episodes.\n"
   ]
  },
  {
   "cell_type": "code",
   "execution_count": 20,
   "metadata": {
    "colab": {},
    "colab_type": "code",
    "execution": {
     "iopub.execute_input": "2020-12-08T12:12:00.155981Z",
     "iopub.status.busy": "2020-12-08T12:12:00.155316Z",
     "iopub.status.idle": "2020-12-08T12:12:00.157349Z",
     "shell.execute_reply": "2020-12-08T12:12:00.156867Z"
    },
    "id": "bitzHo5_UbXy"
   },
   "outputs": [],
   "source": [
    "#@test {\"skip\": true}\n",
    "def compute_avg_return(environment, policy, num_episodes=10):\n",
    "\n",
    "  total_return = 0.0\n",
    "  for _ in range(num_episodes):\n",
    "\n",
    "    time_step = environment.reset()\n",
    "    episode_return = 0.0\n",
    "\n",
    "    while not time_step.is_last():\n",
    "      action_step = policy.action(time_step)\n",
    "      time_step = environment.step(action_step.action)\n",
    "      episode_return += time_step.reward\n",
    "    total_return += episode_return\n",
    "\n",
    "  avg_return = total_return / num_episodes\n",
    "  return avg_return.numpy()[0]\n",
    "\n",
    "\n",
    "# See also the metrics module for standard implementations of different metrics.\n",
    "# https://github.com/tensorflow/agents/tree/master/tf_agents/metrics"
   ]
  },
  {
   "cell_type": "markdown",
   "metadata": {
    "colab_type": "text",
    "id": "_snCVvq5Z8lJ"
   },
   "source": [
    "Running this computation on the `random_policy` shows a baseline performance in the environment."
   ]
  },
  {
   "cell_type": "code",
   "execution_count": 21,
   "metadata": {
    "colab": {},
    "colab_type": "code",
    "execution": {
     "iopub.execute_input": "2020-12-08T12:12:00.161474Z",
     "iopub.status.busy": "2020-12-08T12:12:00.160821Z",
     "iopub.status.idle": "2020-12-08T12:12:00.724278Z",
     "shell.execute_reply": "2020-12-08T12:12:00.724714Z"
    },
    "id": "9bgU6Q6BZ8Bp"
   },
   "outputs": [
    {
     "data": {
      "text/plain": "19.9"
     },
     "execution_count": 21,
     "metadata": {},
     "output_type": "execute_result"
    }
   ],
   "source": [
    "compute_avg_return(eval_env, random_policy, num_eval_episodes)"
   ]
  },
  {
   "cell_type": "markdown",
   "metadata": {
    "colab_type": "text",
    "id": "NLva6g2jdWgr"
   },
   "source": [
    "## Replay Buffer\n",
    "\n",
    "The replay buffer keeps track of data collected from the environment. This tutorial uses `tf_agents.replay_buffers.tf_uniform_replay_buffer.TFUniformReplayBuffer`, as it is the most common. \n",
    "\n",
    "The constructor requires the specs for the data it will be collecting. This is available from the agent using the `collect_data_spec` method. The batch size and maximum buffer length are also required.\n"
   ]
  },
  {
   "cell_type": "code",
   "execution_count": 22,
   "metadata": {
    "colab": {},
    "colab_type": "code",
    "execution": {
     "iopub.execute_input": "2020-12-08T12:12:00.729811Z",
     "iopub.status.busy": "2020-12-08T12:12:00.729137Z",
     "iopub.status.idle": "2020-12-08T12:12:00.741704Z",
     "shell.execute_reply": "2020-12-08T12:12:00.741184Z"
    },
    "id": "vX2zGUWJGWAl"
   },
   "outputs": [],
   "source": [
    "replay_buffer = tf_uniform_replay_buffer.TFUniformReplayBuffer(\n",
    "    data_spec=agent.collect_data_spec,\n",
    "    batch_size=train_env.batch_size,\n",
    "    max_length=replay_buffer_max_length)"
   ]
  },
  {
   "cell_type": "markdown",
   "metadata": {
    "colab_type": "text",
    "id": "ZGNTDJpZs4NN"
   },
   "source": [
    "For most agents, `collect_data_spec` is a named tuple called `Trajectory`, containing the specs for observations, actions, rewards, and other items."
   ]
  },
  {
   "cell_type": "code",
   "execution_count": 23,
   "metadata": {
    "colab": {},
    "colab_type": "code",
    "execution": {
     "iopub.execute_input": "2020-12-08T12:12:00.746858Z",
     "iopub.status.busy": "2020-12-08T12:12:00.746147Z",
     "iopub.status.idle": "2020-12-08T12:12:00.748676Z",
     "shell.execute_reply": "2020-12-08T12:12:00.749075Z"
    },
    "id": "_IZ-3HcqgE1z"
   },
   "outputs": [
    {
     "data": {
      "text/plain": "Trajectory(step_type=TensorSpec(shape=(), dtype=tf.int32, name='step_type'), observation=BoundedTensorSpec(shape=(4,), dtype=tf.float32, name='observation', minimum=array([-4.8000002e+00, -3.4028235e+38, -4.1887903e-01, -3.4028235e+38],\n      dtype=float32), maximum=array([4.8000002e+00, 3.4028235e+38, 4.1887903e-01, 3.4028235e+38],\n      dtype=float32)), action=BoundedTensorSpec(shape=(), dtype=tf.int64, name='action', minimum=array(0), maximum=array(1)), policy_info=(), next_step_type=TensorSpec(shape=(), dtype=tf.int32, name='step_type'), reward=TensorSpec(shape=(), dtype=tf.float32, name='reward'), discount=BoundedTensorSpec(shape=(), dtype=tf.float32, name='discount', minimum=array(0., dtype=float32), maximum=array(1., dtype=float32)))"
     },
     "execution_count": 23,
     "metadata": {},
     "output_type": "execute_result"
    }
   ],
   "source": [
    "agent.collect_data_spec"
   ]
  },
  {
   "cell_type": "code",
   "execution_count": 25,
   "metadata": {
    "colab": {},
    "colab_type": "code",
    "execution": {
     "iopub.execute_input": "2020-12-08T12:12:00.753443Z",
     "iopub.status.busy": "2020-12-08T12:12:00.752734Z",
     "iopub.status.idle": "2020-12-08T12:12:00.755166Z",
     "shell.execute_reply": "2020-12-08T12:12:00.755584Z"
    },
    "id": "sy6g1tGcfRlw"
   },
   "outputs": [
    {
     "data": {
      "text/plain": "('step_type',\n 'observation',\n 'action',\n 'policy_info',\n 'next_step_type',\n 'reward',\n 'discount')"
     },
     "execution_count": 25,
     "metadata": {},
     "output_type": "execute_result"
    }
   ],
   "source": [
    "agent.collect_data_spec._fields"
   ]
  },
  {
   "cell_type": "markdown",
   "metadata": {
    "colab_type": "text",
    "id": "rVD5nQ9ZGo8_"
   },
   "source": [
    "## Data Collection\n",
    "\n",
    "Now execute the random policy in the environment for a few steps, recording the data in the replay buffer."
   ]
  },
  {
   "cell_type": "code",
   "execution_count": 26,
   "metadata": {
    "colab": {},
    "colab_type": "code",
    "execution": {
     "iopub.execute_input": "2020-12-08T12:12:00.762137Z",
     "iopub.status.busy": "2020-12-08T12:12:00.761473Z",
     "iopub.status.idle": "2020-12-08T12:12:01.155325Z",
     "shell.execute_reply": "2020-12-08T12:12:01.155769Z"
    },
    "id": "wr1KSAEGG4h9"
   },
   "outputs": [],
   "source": [
    "#@test {\"skip\": true}\n",
    "def collect_step(environment, policy, buffer):\n",
    "  time_step = environment.current_time_step()\n",
    "  action_step = policy.action(time_step)\n",
    "  next_time_step = environment.step(action_step.action)\n",
    "  traj = trajectory.from_transition(time_step, action_step, next_time_step)\n",
    "\n",
    "  # Add trajectory to the replay buffer\n",
    "  buffer.add_batch(traj)\n",
    "\n",
    "def collect_data(env, policy, buffer, steps):\n",
    "  for _ in range(steps):\n",
    "    collect_step(env, policy, buffer)\n",
    "\n",
    "collect_data(train_env, random_policy, replay_buffer, initial_collect_steps)\n",
    "\n",
    "# This loop is so common in RL, that we provide standard implementations. \n",
    "# For more details see the drivers module.\n",
    "# https://www.tensorflow.org/agents/api_docs/python/tf_agents/drivers"
   ]
  },
  {
   "cell_type": "markdown",
   "metadata": {
    "colab_type": "text",
    "id": "84z5pQJdoKxo"
   },
   "source": [
    "The replay buffer is now a collection of Trajectories."
   ]
  },
  {
   "cell_type": "code",
   "execution_count": 28,
   "metadata": {
    "colab": {},
    "colab_type": "code",
    "execution": {
     "iopub.execute_input": "2020-12-08T12:12:01.159954Z",
     "iopub.status.busy": "2020-12-08T12:12:01.159285Z",
     "iopub.status.idle": "2020-12-08T12:12:01.161607Z",
     "shell.execute_reply": "2020-12-08T12:12:01.161081Z"
    },
    "id": "4wZnLu2ViO4E"
   },
   "outputs": [],
   "source": [
    "# For the curious:\n",
    "# Uncomment to peel one of these off and inspect it.\n",
    "# iter(replay_buffer.as_dataset()).next()"
   ]
  },
  {
   "cell_type": "markdown",
   "metadata": {
    "colab_type": "text",
    "id": "TujU-PMUsKjS"
   },
   "source": [
    "The agent needs access to the replay buffer. This is provided by creating an iterable `tf.data.Dataset` pipeline which will feed data to the agent.\n",
    "\n",
    "Each row of the replay buffer only stores a single observation step. But since the DQN Agent needs both the current and next observation to compute the loss, the dataset pipeline will sample two adjacent rows for each item in the batch (`num_steps=2`).\n",
    "\n",
    "This dataset is also optimized by running parallel calls and prefetching data."
   ]
  },
  {
   "cell_type": "code",
   "execution_count": 27,
   "metadata": {
    "colab": {},
    "colab_type": "code",
    "execution": {
     "iopub.execute_input": "2020-12-08T12:12:01.166360Z",
     "iopub.status.busy": "2020-12-08T12:12:01.165691Z",
     "iopub.status.idle": "2020-12-08T12:12:01.926118Z",
     "shell.execute_reply": "2020-12-08T12:12:01.925553Z"
    },
    "id": "ba7bilizt_qW"
   },
   "outputs": [
    {
     "name": "stdout",
     "output_type": "stream",
     "text": [
      "WARNING:tensorflow:From /mnt/data/Programming/env-sui/lib/python3.8/site-packages/tensorflow/python/autograph/operators/control_flow.py:1004: ReplayBuffer.get_next (from tf_agents.replay_buffers.replay_buffer) is deprecated and will be removed in a future version.\n",
      "Instructions for updating:\n",
      "Use `as_dataset(..., single_deterministic_pass=False) instead.\n"
     ]
    },
    {
     "name": "stderr",
     "output_type": "stream",
     "text": [
      "WARNING:tensorflow:From /mnt/data/Programming/env-sui/lib/python3.8/site-packages/tensorflow/python/autograph/operators/control_flow.py:1004: ReplayBuffer.get_next (from tf_agents.replay_buffers.replay_buffer) is deprecated and will be removed in a future version.\n",
      "Instructions for updating:\n",
      "Use `as_dataset(..., single_deterministic_pass=False) instead.\n"
     ]
    },
    {
     "data": {
      "text/plain": "<PrefetchDataset shapes: (Trajectory(step_type=(64, 2), observation=(64, 2, 4), action=(64, 2), policy_info=(), next_step_type=(64, 2), reward=(64, 2), discount=(64, 2)), BufferInfo(ids=(64, 2), probabilities=(64,))), types: (Trajectory(step_type=tf.int32, observation=tf.float32, action=tf.int64, policy_info=(), next_step_type=tf.int32, reward=tf.float32, discount=tf.float32), BufferInfo(ids=tf.int64, probabilities=tf.float32))>"
     },
     "execution_count": 27,
     "metadata": {},
     "output_type": "execute_result"
    }
   ],
   "source": [
    "# Dataset generates trajectories with shape [Bx2x...]\n",
    "dataset = replay_buffer.as_dataset(\n",
    "    num_parallel_calls=3, \n",
    "    sample_batch_size=batch_size, \n",
    "    num_steps=2).prefetch(3)\n",
    "\n",
    "\n",
    "dataset"
   ]
  },
  {
   "cell_type": "code",
   "execution_count": 28,
   "metadata": {
    "colab": {},
    "colab_type": "code",
    "execution": {
     "iopub.execute_input": "2020-12-08T12:12:01.930536Z",
     "iopub.status.busy": "2020-12-08T12:12:01.929837Z",
     "iopub.status.idle": "2020-12-08T12:12:01.981939Z",
     "shell.execute_reply": "2020-12-08T12:12:01.982389Z"
    },
    "id": "K13AST-2ppOq"
   },
   "outputs": [
    {
     "name": "stdout",
     "output_type": "stream",
     "text": [
      "<tensorflow.python.data.ops.iterator_ops.OwnedIterator object at 0x7fae98278490>\n"
     ]
    }
   ],
   "source": [
    "iterator = iter(dataset)\n",
    "\n",
    "print(iterator)\n"
   ]
  },
  {
   "cell_type": "code",
   "execution_count": 31,
   "metadata": {
    "colab": {},
    "colab_type": "code",
    "execution": {
     "iopub.execute_input": "2020-12-08T12:12:01.986257Z",
     "iopub.status.busy": "2020-12-08T12:12:01.985581Z",
     "iopub.status.idle": "2020-12-08T12:12:01.987654Z",
     "shell.execute_reply": "2020-12-08T12:12:01.988062Z"
    },
    "id": "Th5w5Sff0b16"
   },
   "outputs": [],
   "source": [
    "# For the curious:\n",
    "# Uncomment to see what the dataset iterator is feeding to the agent.\n",
    "# Compare this representation of replay data \n",
    "# to the collection of individual trajectories shown earlier.\n",
    "\n",
    "# iterator.next()"
   ]
  },
  {
   "cell_type": "markdown",
   "metadata": {
    "colab_type": "text",
    "id": "hBc9lj9VWWtZ"
   },
   "source": [
    "## Training the agent\n",
    "\n",
    "Two things must happen during the training loop:\n",
    "\n",
    "-   collect data from the environment\n",
    "-   use that data to train the agent's neural network(s)\n",
    "\n",
    "This example also periodicially evaluates the policy and prints the current score.\n",
    "\n",
    "The following will take ~5 minutes to run."
   ]
  },
  {
   "cell_type": "code",
   "execution_count": 30,
   "metadata": {
    "colab": {},
    "colab_type": "code",
    "execution": {
     "iopub.execute_input": "2020-12-08T12:12:01.998578Z",
     "iopub.status.busy": "2020-12-08T12:12:01.997840Z",
     "iopub.status.idle": "2020-12-08T12:17:53.037292Z",
     "shell.execute_reply": "2020-12-08T12:17:53.036666Z"
    },
    "id": "0pTbJ3PeyF-u"
   },
   "outputs": [
    {
     "name": "stdout",
     "output_type": "stream",
     "text": [
      "step = 200: loss = 3744.8154296875\n",
      "step = 400: loss = 303.14874267578125\n",
      "step = 600: loss = 5126.49755859375\n",
      "step = 800: loss = 11126.564453125\n",
      "step = 1000: loss = 23022.57421875\n",
      "step = 1000: Average Return = 197.39999389648438\n",
      "step = 1200: loss = 223.35995483398438\n",
      "step = 1400: loss = 195.03292846679688\n",
      "step = 1600: loss = 346.8494567871094\n",
      "step = 1800: loss = 13271.8046875\n",
      "step = 2000: loss = 278.3450622558594\n",
      "step = 2000: Average Return = 199.5\n",
      "step = 2200: loss = 13456.671875\n",
      "step = 2400: loss = 9969.74609375\n",
      "step = 2600: loss = 425.535400390625\n",
      "step = 2800: loss = 5602.6806640625\n",
      "step = 3000: loss = 225.52566528320312\n",
      "step = 3000: Average Return = 200.0\n",
      "step = 3200: loss = 18630.533203125\n",
      "step = 3400: loss = 281.9873046875\n",
      "step = 3600: loss = 143.26632690429688\n",
      "step = 3800: loss = 10691.51953125\n",
      "step = 4000: loss = 343.5277099609375\n",
      "step = 4000: Average Return = 199.8000030517578\n",
      "step = 4200: loss = 131.9401397705078\n",
      "step = 4400: loss = 269.4884948730469\n",
      "step = 4600: loss = 512.3986206054688\n",
      "step = 4800: loss = 7800.00927734375\n",
      "step = 5000: loss = 380.34375\n",
      "step = 5000: Average Return = 199.0\n",
      "step = 5200: loss = 7000.3056640625\n",
      "step = 5400: loss = 3282.936279296875\n",
      "step = 5600: loss = 308.9859619140625\n",
      "step = 5800: loss = 9027.9599609375\n",
      "step = 6000: loss = 477.07830810546875\n",
      "step = 6000: Average Return = 199.60000610351562\n",
      "step = 6200: loss = 160.00387573242188\n",
      "step = 6400: loss = 260.1942138671875\n",
      "step = 6600: loss = 448.8521728515625\n",
      "step = 6800: loss = 762.3402099609375\n",
      "step = 7000: loss = 3284.2861328125\n",
      "step = 7000: Average Return = 200.0\n",
      "step = 7200: loss = 11797.59375\n",
      "step = 7400: loss = 317.0284118652344\n",
      "step = 7600: loss = 460.1051940917969\n",
      "step = 7800: loss = 1293.04150390625\n",
      "step = 8000: loss = 585.978759765625\n",
      "step = 8000: Average Return = 197.89999389648438\n",
      "step = 8200: loss = 19098.71875\n",
      "step = 8400: loss = 355.5184326171875\n",
      "step = 8600: loss = 634.2359008789062\n",
      "step = 8800: loss = 6860.18310546875\n",
      "step = 9000: loss = 672.6182861328125\n",
      "step = 9000: Average Return = 195.8000030517578\n",
      "step = 9200: loss = 758.55517578125\n",
      "step = 9400: loss = 822.9835205078125\n",
      "step = 9600: loss = 16070.205078125\n",
      "step = 9800: loss = 263.86578369140625\n",
      "step = 10000: loss = 37242.609375\n",
      "step = 10000: Average Return = 200.0\n",
      "step = 10200: loss = 488.384521484375\n",
      "step = 10400: loss = 14620.6611328125\n",
      "step = 10600: loss = 481.8138122558594\n",
      "step = 10800: loss = 3876.186767578125\n",
      "step = 11000: loss = 336.8918762207031\n",
      "step = 11000: Average Return = 200.0\n",
      "step = 11200: loss = 3375.90283203125\n",
      "step = 11400: loss = 368.21014404296875\n",
      "step = 11600: loss = 338.8857727050781\n",
      "step = 11800: loss = 330.4437255859375\n",
      "step = 12000: loss = 644.409912109375\n",
      "step = 12000: Average Return = 200.0\n",
      "step = 12200: loss = 686.44189453125\n",
      "step = 12400: loss = 714.5071411132812\n",
      "step = 12600: loss = 421.160888671875\n",
      "step = 12800: loss = 561.3650512695312\n",
      "step = 13000: loss = 526.8820190429688\n",
      "step = 13000: Average Return = 200.0\n",
      "step = 13200: loss = 47414.8515625\n",
      "step = 13400: loss = 538.7193603515625\n",
      "step = 13600: loss = 475.8446044921875\n",
      "step = 13800: loss = 1219.8828125\n",
      "step = 14000: loss = 948.0565185546875\n",
      "step = 14000: Average Return = 200.0\n",
      "step = 14200: loss = 592.7876586914062\n",
      "step = 14400: loss = 958.4071044921875\n",
      "step = 14600: loss = 28264.439453125\n",
      "step = 14800: loss = 1053.10400390625\n",
      "step = 15000: loss = 639.2916259765625\n",
      "step = 15000: Average Return = 200.0\n",
      "step = 15200: loss = 24239.42578125\n",
      "step = 15400: loss = 29053.185546875\n",
      "step = 15600: loss = 539.6947021484375\n",
      "step = 15800: loss = 200.97825622558594\n",
      "step = 16000: loss = 315.39935302734375\n",
      "step = 16000: Average Return = 197.60000610351562\n",
      "step = 16200: loss = 629.470458984375\n",
      "step = 16400: loss = 341.8509521484375\n",
      "step = 16600: loss = 579.2133178710938\n",
      "step = 16800: loss = 372.5782165527344\n",
      "step = 17000: loss = 453.53759765625\n",
      "step = 17000: Average Return = 200.0\n",
      "step = 17200: loss = 396.4065246582031\n",
      "step = 17400: loss = 30493.22265625\n",
      "step = 17600: loss = 482.622802734375\n",
      "step = 17800: loss = 10704.9580078125\n",
      "step = 18000: loss = 342.6502380371094\n",
      "step = 18000: Average Return = 199.5\n",
      "step = 18200: loss = 695.1687622070312\n",
      "step = 18400: loss = 957.3146362304688\n",
      "step = 18600: loss = 1113.82373046875\n",
      "step = 18800: loss = 493.7047424316406\n",
      "step = 19000: loss = 1006.9297485351562\n",
      "step = 19000: Average Return = 200.0\n",
      "step = 19200: loss = 271.20989990234375\n",
      "step = 19400: loss = 391.5710754394531\n",
      "step = 19600: loss = 1056.273193359375\n",
      "step = 19800: loss = 1209.52685546875\n",
      "step = 20000: loss = 31901.27734375\n",
      "step = 20000: Average Return = 200.0\n"
     ]
    }
   ],
   "source": [
    "#@test {\"skip\": true}\n",
    "try:\n",
    "  %%time\n",
    "except:\n",
    "  pass\n",
    "\n",
    "# (Optional) Optimize by wrapping some of the code in a graph using TF function.\n",
    "agent.train = common.function(agent.train)\n",
    "\n",
    "# Reset the train step\n",
    "agent.train_step_counter.assign(0)\n",
    "\n",
    "# Evaluate the agent's policy once before training.\n",
    "avg_return = compute_avg_return(eval_env, agent.policy, num_eval_episodes)\n",
    "returns = [avg_return]\n",
    "\n",
    "for _ in range(num_iterations):\n",
    "\n",
    "  # Collect a few steps using collect_policy and save to the replay buffer.\n",
    "  collect_data(train_env, agent.collect_policy, replay_buffer, collect_steps_per_iteration)\n",
    "\n",
    "  # Sample a batch of data from the buffer and update the agent's network.\n",
    "  experience, unused_info = next(iterator)\n",
    "  train_loss = agent.train(experience).loss\n",
    "\n",
    "  step = agent.train_step_counter.numpy()\n",
    "\n",
    "  if step % log_interval == 0:\n",
    "    print('step = {0}: loss = {1}'.format(step, train_loss))\n",
    "\n",
    "  if step % eval_interval == 0:\n",
    "    avg_return = compute_avg_return(eval_env, agent.policy, num_eval_episodes)\n",
    "    print('step = {0}: Average Return = {1}'.format(step, avg_return))\n",
    "    returns.append(avg_return)"
   ]
  },
  {
   "cell_type": "markdown",
   "metadata": {
    "colab_type": "text",
    "id": "68jNcA_TiJDq"
   },
   "source": [
    "## Visualization\n"
   ]
  },
  {
   "cell_type": "markdown",
   "metadata": {
    "colab_type": "text",
    "id": "aO-LWCdbbOIC"
   },
   "source": [
    "### Plots\n",
    "\n",
    "Use `matplotlib.pyplot` to chart how the policy improved during training.\n",
    "\n",
    "One iteration of `Cartpole-v0` consists of 200 time steps. The environment gives a reward of `+1` for each step the pole stays up, so the maximum return for one episode is 200. The charts shows the return increasing towards that maximum each time it is evaluated during training. (It may be a little unstable and not increase monotonically each time.)"
   ]
  },
  {
   "cell_type": "code",
   "execution_count": 31,
   "metadata": {
    "colab": {},
    "colab_type": "code",
    "execution": {
     "iopub.execute_input": "2020-12-08T12:17:53.057568Z",
     "iopub.status.busy": "2020-12-08T12:17:53.055616Z",
     "iopub.status.idle": "2020-12-08T12:17:53.170810Z",
     "shell.execute_reply": "2020-12-08T12:17:53.170231Z"
    },
    "id": "NxtL1mbOYCVO"
   },
   "outputs": [
    {
     "data": {
      "text/plain": "(187.7150032043457, 250.0)"
     },
     "execution_count": 31,
     "metadata": {},
     "output_type": "execute_result"
    },
    {
     "data": {
      "text/plain": "<Figure size 432x288 with 1 Axes>",
      "image/png": "[encoded data removed]"
     },
     "metadata": {
      "needs_background": "light"
     },
     "output_type": "display_data"
    }
   ],
   "source": [
    "#@test {\"skip\": true}\n",
    "\n",
    "iterations = range(0, num_iterations + 1, eval_interval)\n",
    "plt.plot(iterations, returns)\n",
    "plt.ylabel('Average Return')\n",
    "plt.xlabel('Iterations')\n",
    "plt.ylim(top=250)"
   ]
  },
  {
   "cell_type": "markdown",
   "metadata": {
    "colab_type": "text",
    "id": "M7-XpPP99Cy7"
   },
   "source": [
    "### Videos"
   ]
  },
  {
   "cell_type": "markdown",
   "metadata": {
    "colab_type": "text",
    "id": "9pGfGxSH32gn"
   },
   "source": [
    "Charts are nice. But more exciting is seeing an agent actually performing a task in an environment. \n",
    "\n",
    "First, create a function to embed videos in the notebook."
   ]
  },
  {
   "cell_type": "code",
   "execution_count": 32,
   "metadata": {
    "colab": {},
    "colab_type": "code",
    "execution": {
     "iopub.execute_input": "2020-12-08T12:17:53.176578Z",
     "iopub.status.busy": "2020-12-08T12:17:53.175928Z",
     "iopub.status.idle": "2020-12-08T12:17:53.177670Z",
     "shell.execute_reply": "2020-12-08T12:17:53.178078Z"
    },
    "id": "ULaGr8pvOKbl"
   },
   "outputs": [],
   "source": [
    "def embed_mp4(filename):\n",
    "  \"\"\"Embeds an mp4 file in the notebook.\"\"\"\n",
    "  video = open(filename,'rb').read()\n",
    "  b64 = base64.b64encode(video)\n",
    "  tag = '''\n",
    "  <video width=\"640\" height=\"480\" controls>\n",
    "    <source src=\"data:video/mp4;base64,{0}\" type=\"video/mp4\">\n",
    "  Your browser does not support the video tag.\n",
    "  </video>'''.format(b64.decode())\n",
    "\n",
    "  return IPython.display.HTML(tag)"
   ]
  },
  {
   "cell_type": "markdown",
   "metadata": {
    "colab_type": "text",
    "id": "9c_PH-pX4Pr5"
   },
   "source": [
    "Now iterate through a few episodes of the Cartpole game with the agent. The underlying Python environment (the one \"inside\" the TensorFlow environment wrapper) provides a `render()` method, which outputs an image of the environment state. These can be collected into a video."
   ]
  },
  {
   "cell_type": "code",
   "execution_count": 34,
   "metadata": {
    "colab": {},
    "colab_type": "code",
    "execution": {
     "iopub.execute_input": "2020-12-08T12:17:53.184555Z",
     "iopub.status.busy": "2020-12-08T12:17:53.183896Z",
     "iopub.status.idle": "2020-12-08T12:18:05.939961Z",
     "shell.execute_reply": "2020-12-08T12:18:05.940393Z"
    },
    "id": "owOVWB158NlF"
   },
   "outputs": [
    {
     "name": "stderr",
     "output_type": "stream",
     "text": [
      "WARNING:root:IMAGEIO FFMPEG_WRITER WARNING: input image is not divisible by macro_block_size=16, resizing from (400, 600) to (400, 608) to ensure video compatibility with most codecs and players. To prevent resizing, make your input image divisible by the macro_block_size or set the macro_block_size to None (risking incompatibility). You may also see a FFMPEG warning concerning speedloss due to data not being aligned.\n"
     ]
    },
    {
     "data": {
      "text/plain": "<IPython.core.display.HTML object>",
      "text/html": "\n  <video width=\"640\" height=\"480\" controls>\n    <source src=\"data:video/mp4;base64,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\" type=\"video/mp4\">\n  Your browser does not support the video tag.\n  </video>"
     },
     "execution_count": 34,
     "metadata": {},
     "output_type": "execute_result"
    }
   ],
   "source": [
    "def create_policy_eval_video(policy, filename, num_episodes=5, fps=30):\n",
    "  filename = filename + \".mp4\"\n",
    "  with imageio.get_writer(filename, fps=fps) as video:\n",
    "    for _ in range(num_episodes):\n",
    "      time_step = eval_env.reset()\n",
    "      video.append_data(eval_py_env.render())\n",
    "      while not time_step.is_last():\n",
    "        action_step = policy.action(time_step)\n",
    "        time_step = eval_env.step(action_step.action)\n",
    "        video.append_data(eval_py_env.render())\n",
    "  return embed_mp4(filename)\n",
    "\n",
    "\n",
    "\n",
    "\n",
    "create_policy_eval_video(agent.policy, \"trained-agent\")"
   ]
  },
  {
   "cell_type": "markdown",
   "metadata": {
    "colab_type": "text",
    "id": "povaAOcZygLw"
   },
   "source": [
    "For fun, compare the trained agent (above) to an agent moving randomly. (It does not do as well.)"
   ]
  },
  {
   "cell_type": "code",
   "execution_count": 35,
   "metadata": {
    "colab": {},
    "colab_type": "code",
    "execution": {
     "iopub.execute_input": "2020-12-08T12:18:05.946019Z",
     "iopub.status.busy": "2020-12-08T12:18:05.945249Z",
     "iopub.status.idle": "2020-12-08T12:18:07.151955Z",
     "shell.execute_reply": "2020-12-08T12:18:07.152359Z"
    },
    "id": "pJZIdC37yNH4"
   },
   "outputs": [
    {
     "name": "stderr",
     "output_type": "stream",
     "text": [
      "WARNING:root:IMAGEIO FFMPEG_WRITER WARNING: input image is not divisible by macro_block_size=16, resizing from (400, 600) to (400, 608) to ensure video compatibility with most codecs and players. To prevent resizing, make your input image divisible by the macro_block_size or set the macro_block_size to None (risking incompatibility). You may also see a FFMPEG warning concerning speedloss due to data not being aligned.\n"
     ]
    },
    {
     "data": {
      "text/plain": "<IPython.core.display.HTML object>",
      "text/html": "\n  <video width=\"640\" height=\"480\" controls>\n    <source src=\"data:video/mp4;base64,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\" type=\"video/mp4\">\n  Your browser does not support the video tag.\n  </video>"
     },
     "execution_count": 35,
     "metadata": {},
     "output_type": "execute_result"
    }
   ],
   "source": [
    "create_policy_eval_video(random_policy, \"random-agent\")"
   ]
  }
 ],
 "metadata": {
  "colab": {
   "collapsed_sections": [],
   "name": "DQN Tutorial.ipynb",
   "private_outputs": true,
   "provenance": [],
   "toc_visible": true
  },
  "kernelspec": {
   "display_name": "Python 3",
   "language": "python",
   "name": "python3"
  },
  "language_info": {
   "codemirror_mode": {
    "name": "ipython",
    "version": 3
   },
   "file_extension": ".py",
   "mimetype": "text/x-python",
   "name": "python",
   "nbconvert_exporter": "python",
   "pygments_lexer": "ipython3",
   "version": "3.6.9"
  },
  "pycharm": {
   "stem_cell": {
    "cell_type": "raw",
    "metadata": {
     "collapsed": false
    },
    "source": []
   }
  }
 },
 "nbformat": 4,
 "nbformat_minor": 0
}